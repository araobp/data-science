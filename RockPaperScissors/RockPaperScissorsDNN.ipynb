{
 "cells": [
  {
   "cell_type": "markdown",
   "id": "b593c1a5-0d17-4526-91eb-8795092a7670",
   "metadata": {},
   "source": [
    "# Rock-paper-scissors with Keras/TensorFlow\n",
    "\n",
    "Date: 2023/10/14"
   ]
  },
  {
   "cell_type": "markdown",
   "id": "655f2a5b-b59b-42c2-a189-a207028ded5d",
   "metadata": {},
   "source": [
    "Classification: rock, paper, \n",
    "scissors"
   ]
  },
  {
   "cell_type": "markdown",
   "id": "48c6bbca-0494-4007-8c61-b948a7eb7cc3",
   "metadata": {},
   "source": [
    "## Preparing data set for DNN"
   ]
  },
  {
   "cell_type": "code",
   "execution_count": 2,
   "id": "72971869-da18-42bf-8e54-92bc9dcdf1c3",
   "metadata": {},
   "outputs": [],
   "source": [
    "DATA_FOLDER = '../python/ThermographyGUI/data/'\n",
    "SCREENSHOTS_FOLDER = '../python/ThermographyGUI/screenshots/'"
   ]
  },
  {
   "cell_type": "code",
   "execution_count": 3,
   "id": "f51d662f-8ad0-4303-9f7e-26f64e2c1fc9",
   "metadata": {},
   "outputs": [],
   "source": [
    "%matplotlib inline\n",
    "%run ./zigzag.py\n",
    "\n",
    "import matplotlib.pyplot as plt\n",
    "import numpy as np\n",
    "import time\n",
    "import random\n",
    "import os\n",
    "import sklearn.preprocessing as pp\n",
    "from scipy.fftpack import dct, idct\n",
    "import glob"
   ]
  },
  {
   "cell_type": "code",
   "execution_count": 4,
   "id": "c85a42f6-5de7-43ba-8029-56fa5fbc80e9",
   "metadata": {},
   "outputs": [],
   "source": [
    "data_files = glob.glob(DATA_FOLDER+'*.csv')\n",
    "num_all_files = len(data_files)"
   ]
  },
  {
   "cell_type": "code",
   "execution_count": 5,
   "id": "5c2fd052-390e-40e1-a44d-86b9b587a55d",
   "metadata": {},
   "outputs": [
    {
     "data": {
      "text/plain": [
       "'../python/ThermographyGUI/data/paper-20190106130441.csv'"
      ]
     },
     "execution_count": 5,
     "metadata": {},
     "output_type": "execute_result"
    }
   ],
   "source": [
    "data_files[0]"
   ]
  },
  {
   "cell_type": "code",
   "execution_count": 6,
   "id": "743088e5-4155-4a54-9e80-8356b42cb83d",
   "metadata": {},
   "outputs": [
    {
     "data": {
      "text/plain": [
       "{'paper': 140, 'scissors': 140, 'rock': 140}"
      ]
     },
     "execution_count": 6,
     "metadata": {},
     "output_type": "execute_result"
    }
   ],
   "source": [
    "class_labels = {}\n",
    "\n",
    "for file in data_files:\n",
    "    label = file.split('-')[0].replace('\\\\', '/').split('/')[-1]\n",
    "    if label not in class_labels:\n",
    "        class_labels[label] = 1\n",
    "    else:\n",
    "        class_labels[label] += 1\n",
    "\n",
    "class_labels"
   ]
  },
  {
   "cell_type": "code",
   "execution_count": 7,
   "id": "a90b17e2-fd7d-468f-bfa8-5e72cd8a294b",
   "metadata": {},
   "outputs": [
    {
     "name": "stdout",
     "output_type": "stream",
     "text": [
      "Check OK\n"
     ]
    }
   ],
   "source": [
    "#Check if all values of class labels is equal to each other \n",
    "if (len(set(class_labels.values())) == 1):\n",
    "    print('Check OK')\n",
    "else:\n",
    "    print('Check NG')"
   ]
  },
  {
   "cell_type": "code",
   "execution_count": 11,
   "id": "05ea08ab-4423-40da-823e-651fcd4e2c29",
   "metadata": {},
   "outputs": [
    {
     "data": {
      "text/plain": [
       "'num_classes: 3, num_train_files: 112, num_test_files: 28'"
      ]
     },
     "execution_count": 11,
     "metadata": {},
     "output_type": "execute_result"
    }
   ],
   "source": [
    "num_classes = len(class_labels.keys())\n",
    "num_files = list(class_labels.values())[0]\n",
    "num_train_files = int(num_files * 4/5)\n",
    "num_test_files = num_files - num_train_files\n",
    "'num_classes: {}, num_train_files: {}, num_test_files: {}'.format(num_classes, num_train_files, num_test_files)"
   ]
  },
  {
   "cell_type": "code",
   "execution_count": 12,
   "id": "b44f1d70-6f3f-4670-b906-c02301d4f947",
   "metadata": {},
   "outputs": [],
   "source": [
    "data_set = {}\n",
    "\n",
    "class_number = 0\n",
    "\n",
    "for label in class_labels:\n",
    "    files = glob.glob(DATA_FOLDER+'{}-*.csv'.format(label))\n",
    "    random.shuffle(files)\n",
    "    data_set[label] = (files[:num_train_files], files[num_train_files:num_files], class_number)\n",
    "    class_number += 1"
   ]
  },
  {
   "cell_type": "code",
   "execution_count": 13,
   "id": "efaab118-d607-4090-a4a0-c5b44b0d42ce",
   "metadata": {},
   "outputs": [],
   "source": [
    "training_set = []\n",
    "test_set = []"
   ]
  },
  {
   "cell_type": "code",
   "execution_count": 14,
   "id": "ffb14d4d-3f65-4852-b1b3-0018b61c846e",
   "metadata": {},
   "outputs": [],
   "source": [
    "for k, v in data_set.items():\n",
    "    files = v[0]\n",
    "    class_number = v[2]\n",
    "    for file in files:\n",
    "        with open(file) as f:\n",
    "            data = np.array(f.read().split(',')).astype(float)\n",
    "            training_set.append((data, class_number))\n",
    "    files = v[1]\n",
    "    for file in files:\n",
    "        with open(file) as f:\n",
    "            data = np.array(f.read().split(',')).astype(float)\n",
    "            test_set.append((data, class_number))\n",
    "random.shuffle(training_set)\n",
    "random.shuffle(test_set)"
   ]
  },
  {
   "cell_type": "code",
   "execution_count": 15,
   "id": "43d06aad-a9a2-4b55-99d0-e4068b9de290",
   "metadata": {},
   "outputs": [
    {
     "data": {
      "text/plain": [
       "(array([19. , 19.8, 20.2, 25.5, 27.2, 24. , 20.2, 19.2, 18.5, 18.8, 23. ,\n",
       "        26.5, 26.8, 23.2, 19.5, 18.5, 18.5, 19. , 23.8, 26.2, 25.5, 23.2,\n",
       "        19.2, 19.5, 18.2, 19.2, 24.8, 26.5, 25.2, 21.5, 18.8, 18.8, 18.8,\n",
       "        20. , 25. , 25. , 22. , 19.2, 18. , 17.8, 17.5, 19.5, 21.5, 23. ,\n",
       "        19.2, 17.2, 16.8, 16.5, 16.5, 18.5, 18. , 21.8, 18.2, 16.8, 16.5,\n",
       "        16.8, 16.2, 16.5, 16.8, 18. , 17. , 16.8, 16.5, 16.5]),\n",
       " 1)"
      ]
     },
     "execution_count": 15,
     "metadata": {},
     "output_type": "execute_result"
    }
   ],
   "source": [
    "training_set[0]"
   ]
  },
  {
   "cell_type": "code",
   "execution_count": 16,
   "id": "734f885f-9481-4159-82f9-30cd314b4daf",
   "metadata": {},
   "outputs": [
    {
     "name": "stdout",
     "output_type": "stream",
     "text": [
      "0: paper\n",
      "1: scissors\n",
      "2: rock\n"
     ]
    }
   ],
   "source": [
    "class_labels = [None for _ in range(len(data_set))]\n",
    "\n",
    "# Class number and class labels\n",
    "for k,v in data_set.items():\n",
    "    print('{}: {}'.format(v[2],k))\n",
    "    class_labels[v[2]] = k\n",
    "    \n",
    "import yaml\n",
    "with open(DATA_FOLDER+'class_labels.yaml', 'w') as f:\n",
    "    yaml.dump(class_labels, f)"
   ]
  },
  {
   "cell_type": "code",
   "execution_count": 26,
   "id": "60c80dfb-737f-4400-8120-7a980f6ae799",
   "metadata": {},
   "outputs": [],
   "source": [
    "train_data, train_labels = [], []\n",
    "test_data, test_labels = [], []"
   ]
  },
  {
   "cell_type": "code",
   "execution_count": 27,
   "id": "827f47e8-6634-4676-8cc0-ee1016dd69af",
   "metadata": {},
   "outputs": [],
   "source": [
    "def gen_data_labels(data_set):\n",
    "    d = []  # data\n",
    "    l = []  # labels\n",
    "    for img, label in data_set:\n",
    "        #img = img.reshape(8,8)\n",
    "        img = pp.scale(img)  # Standardization\n",
    "        d.append(img)\n",
    "        l.append(label)\n",
    "    d = np.array(d)\n",
    "    l = np.array(l, dtype=np.uint8)\n",
    "    return (d, l)\n",
    "\n",
    "train_data, train_labels = gen_data_labels(training_set)\n",
    "test_data, test_labels = gen_data_labels(test_set)"
   ]
  },
  {
   "cell_type": "code",
   "execution_count": 28,
   "id": "2cc59b0a-a754-4c38-b6e1-c921e8642e70",
   "metadata": {},
   "outputs": [
    {
     "data": {
      "text/plain": [
       "array([-0.36899917, -0.12106272,  0.00290551,  1.6454845 ,  2.17234946,\n",
       "        1.18060365,  0.00290551, -0.30701506, -0.52395946, -0.43098329,\n",
       "        0.87068309,  1.95540507,  2.04838124,  0.9326672 , -0.21403889,\n",
       "       -0.52395946, -0.52395946, -0.36899917,  1.11861954,  1.8624289 ,\n",
       "        1.6454845 ,  0.9326672 , -0.30701506, -0.21403889, -0.61693563,\n",
       "       -0.30701506,  1.42854011,  1.95540507,  1.55250833,  0.40580224,\n",
       "       -0.43098329, -0.43098329, -0.43098329, -0.05907861,  1.49052422,\n",
       "        1.49052422,  0.56076252, -0.30701506, -0.67891974, -0.74090385,\n",
       "       -0.83388002, -0.21403889,  0.40580224,  0.87068309, -0.30701506,\n",
       "       -0.92685619, -1.05082442, -1.14380059, -1.14380059, -0.52395946,\n",
       "       -0.67891974,  0.49877841, -0.61693563, -1.05082442, -1.14380059,\n",
       "       -1.05082442, -1.23677676, -1.14380059, -1.05082442, -0.67891974,\n",
       "       -0.9888403 , -1.05082442, -1.14380059, -1.14380059])"
      ]
     },
     "execution_count": 28,
     "metadata": {},
     "output_type": "execute_result"
    }
   ],
   "source": [
    "train_data[0]"
   ]
  },
  {
   "cell_type": "code",
   "execution_count": 29,
   "id": "f6c2db91-a7f9-41ae-972b-01847ea8523e",
   "metadata": {},
   "outputs": [
    {
     "data": {
      "text/plain": [
       "array([2, 1, 0, 2, 1, 1, 0, 2, 1, 2, 0, 2, 0, 0, 0, 2, 1, 2, 0, 2, 2, 2,\n",
       "       2, 1, 1, 2, 0, 0, 0, 2, 0, 1, 1, 2, 2, 2, 0, 2, 1, 0, 1, 1, 0, 0,\n",
       "       0, 1, 2, 2, 1, 2, 2, 2, 1, 1, 0, 2, 0, 1, 2, 0, 1, 0, 1, 2, 1, 1,\n",
       "       0, 2, 2, 0, 2, 0, 1, 1, 1, 1, 0, 0, 1, 1, 0, 0, 1, 0], dtype=uint8)"
      ]
     },
     "execution_count": 29,
     "metadata": {},
     "output_type": "execute_result"
    }
   ],
   "source": [
    "test_labels"
   ]
  },
  {
   "cell_type": "code",
   "execution_count": 30,
   "id": "5009cadd-8616-4803-af7b-17a26d27be0d",
   "metadata": {},
   "outputs": [],
   "source": [
    "from keras.utils import to_categorical\n",
    "\n",
    "train_labels=to_categorical(train_labels)\n",
    "test_labels=to_categorical(test_labels)"
   ]
  },
  {
   "cell_type": "code",
   "execution_count": 31,
   "id": "e59d0a35-2675-4945-96ab-79416e2cab1e",
   "metadata": {},
   "outputs": [
    {
     "data": {
      "text/plain": [
       "array([0., 1., 0.], dtype=float32)"
      ]
     },
     "execution_count": 31,
     "metadata": {},
     "output_type": "execute_result"
    }
   ],
   "source": [
    "train_labels[0]"
   ]
  },
  {
   "cell_type": "markdown",
   "id": "d2439c76-a502-4714-a0a5-b4c49c3a0731",
   "metadata": {},
   "source": [
    "## DNN model"
   ]
  },
  {
   "cell_type": "code",
   "execution_count": 63,
   "id": "811041f3-5de1-44ec-bcce-709ff5668af2",
   "metadata": {},
   "outputs": [
    {
     "name": "stdout",
     "output_type": "stream",
     "text": [
      "Model: \"sequential_8\"\n",
      "_________________________________________________________________\n",
      " Layer (type)                Output Shape              Param #   \n",
      "=================================================================\n",
      " dense_24 (Dense)            (None, 83)                5395      \n",
      "                                                                 \n",
      " dropout_16 (Dropout)        (None, 83)                0         \n",
      "                                                                 \n",
      " dense_25 (Dense)            (None, 83)                6972      \n",
      "                                                                 \n",
      " dropout_17 (Dropout)        (None, 83)                0         \n",
      "                                                                 \n",
      " dense_26 (Dense)            (None, 3)                 252       \n",
      "                                                                 \n",
      "=================================================================\n",
      "Total params: 12619 (49.29 KB)\n",
      "Trainable params: 12619 (49.29 KB)\n",
      "Non-trainable params: 0 (0.00 Byte)\n",
      "_________________________________________________________________\n"
     ]
    }
   ],
   "source": [
    "from keras import layers\n",
    "from keras import models\n",
    "\n",
    "model = models.Sequential()\n",
    "\n",
    "LENGTH=64\n",
    "\n",
    "model.add(layers.Dense(int(LENGTH*1.3), activation='relu', input_shape=(64,)))\n",
    "model.add(layers.Dropout(0.4))\n",
    "model.add(layers.Dense(int(LENGTH*1.3), activation='relu'))\n",
    "model.add(layers.Dropout(0.4))\n",
    "model.add(layers.Dense(len(class_labels), activation='softmax'))\n",
    "\n",
    "model.summary()"
   ]
  },
  {
   "cell_type": "code",
   "execution_count": 64,
   "id": "de485650-dc83-423f-a235-f63097723c09",
   "metadata": {},
   "outputs": [],
   "source": [
    "model.compile(optimizer='rmsprop', loss='categorical_crossentropy', metrics=['accuracy'])"
   ]
  },
  {
   "cell_type": "code",
   "execution_count": 65,
   "id": "dddc9f78-f3f3-4525-a35f-ed0455e60f00",
   "metadata": {},
   "outputs": [
    {
     "name": "stdout",
     "output_type": "stream",
     "text": [
      "You must install pydot (`pip install pydot`) and install graphviz (see instructions at https://graphviz.gitlab.io/download/) for plot_model to work.\n"
     ]
    }
   ],
   "source": [
    "from IPython.display import SVG\n",
    "from keras.utils import plot_model\n",
    "\n",
    "plot_model(model, show_shapes=True, show_layer_names=True)"
   ]
  },
  {
   "cell_type": "code",
   "execution_count": 66,
   "id": "8702eecf-befa-47cd-98ec-4fb21c3c7974",
   "metadata": {},
   "outputs": [
    {
     "name": "stdout",
     "output_type": "stream",
     "text": [
      "Epoch 1/300\n",
      "11/11 [==============================] - 0s 6ms/step - loss: 1.2635 - accuracy: 0.3333 - val_loss: 0.9900 - val_accuracy: 0.4524\n",
      "Epoch 2/300\n",
      "11/11 [==============================] - 0s 2ms/step - loss: 1.0985 - accuracy: 0.4018 - val_loss: 0.9250 - val_accuracy: 0.5357\n",
      "Epoch 3/300\n",
      "11/11 [==============================] - 0s 2ms/step - loss: 1.0182 - accuracy: 0.4792 - val_loss: 0.8798 - val_accuracy: 0.6190\n",
      "Epoch 4/300\n",
      "11/11 [==============================] - 0s 2ms/step - loss: 0.9329 - accuracy: 0.5595 - val_loss: 0.8406 - val_accuracy: 0.7024\n",
      "Epoch 5/300\n",
      "11/11 [==============================] - 0s 2ms/step - loss: 0.9178 - accuracy: 0.5744 - val_loss: 0.7970 - val_accuracy: 0.7500\n",
      "Epoch 6/300\n",
      "11/11 [==============================] - 0s 2ms/step - loss: 0.8551 - accuracy: 0.6012 - val_loss: 0.7646 - val_accuracy: 0.7143\n",
      "Epoch 7/300\n",
      "11/11 [==============================] - 0s 2ms/step - loss: 0.8312 - accuracy: 0.6399 - val_loss: 0.7212 - val_accuracy: 0.7619\n",
      "Epoch 8/300\n",
      "11/11 [==============================] - 0s 2ms/step - loss: 0.8279 - accuracy: 0.6548 - val_loss: 0.7160 - val_accuracy: 0.7500\n",
      "Epoch 9/300\n",
      "11/11 [==============================] - 0s 2ms/step - loss: 0.7910 - accuracy: 0.6548 - val_loss: 0.6764 - val_accuracy: 0.7976\n",
      "Epoch 10/300\n",
      "11/11 [==============================] - 0s 2ms/step - loss: 0.7612 - accuracy: 0.6667 - val_loss: 0.6411 - val_accuracy: 0.7857\n",
      "Epoch 11/300\n",
      "11/11 [==============================] - 0s 2ms/step - loss: 0.7021 - accuracy: 0.6935 - val_loss: 0.6013 - val_accuracy: 0.7976\n",
      "Epoch 12/300\n",
      "11/11 [==============================] - 0s 2ms/step - loss: 0.6479 - accuracy: 0.7649 - val_loss: 0.5559 - val_accuracy: 0.7976\n",
      "Epoch 13/300\n",
      "11/11 [==============================] - 0s 2ms/step - loss: 0.7004 - accuracy: 0.7173 - val_loss: 0.5501 - val_accuracy: 0.8214\n",
      "Epoch 14/300\n",
      "11/11 [==============================] - 0s 2ms/step - loss: 0.6772 - accuracy: 0.7143 - val_loss: 0.5263 - val_accuracy: 0.8333\n",
      "Epoch 15/300\n",
      "11/11 [==============================] - 0s 2ms/step - loss: 0.6582 - accuracy: 0.7381 - val_loss: 0.5218 - val_accuracy: 0.8214\n",
      "Epoch 16/300\n",
      "11/11 [==============================] - 0s 2ms/step - loss: 0.6108 - accuracy: 0.7976 - val_loss: 0.4894 - val_accuracy: 0.8333\n",
      "Epoch 17/300\n",
      "11/11 [==============================] - 0s 2ms/step - loss: 0.6070 - accuracy: 0.7857 - val_loss: 0.4674 - val_accuracy: 0.8452\n",
      "Epoch 18/300\n",
      "11/11 [==============================] - 0s 2ms/step - loss: 0.5908 - accuracy: 0.7798 - val_loss: 0.4560 - val_accuracy: 0.8571\n",
      "Epoch 19/300\n",
      "11/11 [==============================] - 0s 2ms/step - loss: 0.5247 - accuracy: 0.8006 - val_loss: 0.4336 - val_accuracy: 0.8333\n",
      "Epoch 20/300\n",
      "11/11 [==============================] - 0s 2ms/step - loss: 0.5475 - accuracy: 0.7976 - val_loss: 0.4195 - val_accuracy: 0.8452\n",
      "Epoch 21/300\n",
      "11/11 [==============================] - 0s 2ms/step - loss: 0.5331 - accuracy: 0.7976 - val_loss: 0.3963 - val_accuracy: 0.8452\n",
      "Epoch 22/300\n",
      "11/11 [==============================] - 0s 1ms/step - loss: 0.5407 - accuracy: 0.7827 - val_loss: 0.4024 - val_accuracy: 0.8333\n",
      "Epoch 23/300\n",
      "11/11 [==============================] - 0s 2ms/step - loss: 0.5127 - accuracy: 0.8125 - val_loss: 0.3845 - val_accuracy: 0.8571\n",
      "Epoch 24/300\n",
      "11/11 [==============================] - 0s 2ms/step - loss: 0.4581 - accuracy: 0.8244 - val_loss: 0.3598 - val_accuracy: 0.8810\n",
      "Epoch 25/300\n",
      "11/11 [==============================] - 0s 2ms/step - loss: 0.4930 - accuracy: 0.8185 - val_loss: 0.3664 - val_accuracy: 0.8452\n",
      "Epoch 26/300\n",
      "11/11 [==============================] - 0s 2ms/step - loss: 0.4425 - accuracy: 0.8452 - val_loss: 0.3612 - val_accuracy: 0.8571\n",
      "Epoch 27/300\n",
      "11/11 [==============================] - 0s 1ms/step - loss: 0.4413 - accuracy: 0.8333 - val_loss: 0.3403 - val_accuracy: 0.8690\n",
      "Epoch 28/300\n",
      "11/11 [==============================] - 0s 1ms/step - loss: 0.4366 - accuracy: 0.8363 - val_loss: 0.3338 - val_accuracy: 0.8690\n",
      "Epoch 29/300\n",
      "11/11 [==============================] - 0s 2ms/step - loss: 0.4234 - accuracy: 0.8512 - val_loss: 0.3340 - val_accuracy: 0.8571\n",
      "Epoch 30/300\n",
      "11/11 [==============================] - 0s 2ms/step - loss: 0.3942 - accuracy: 0.8512 - val_loss: 0.3157 - val_accuracy: 0.8929\n",
      "Epoch 31/300\n",
      "11/11 [==============================] - 0s 2ms/step - loss: 0.4191 - accuracy: 0.8601 - val_loss: 0.3075 - val_accuracy: 0.8690\n",
      "Epoch 32/300\n",
      "11/11 [==============================] - 0s 2ms/step - loss: 0.4062 - accuracy: 0.8542 - val_loss: 0.3244 - val_accuracy: 0.8690\n",
      "Epoch 33/300\n",
      "11/11 [==============================] - 0s 2ms/step - loss: 0.3562 - accuracy: 0.8690 - val_loss: 0.3070 - val_accuracy: 0.8810\n",
      "Epoch 34/300\n",
      "11/11 [==============================] - 0s 2ms/step - loss: 0.3346 - accuracy: 0.8780 - val_loss: 0.2953 - val_accuracy: 0.8452\n",
      "Epoch 35/300\n",
      "11/11 [==============================] - 0s 2ms/step - loss: 0.3407 - accuracy: 0.8720 - val_loss: 0.2851 - val_accuracy: 0.8810\n",
      "Epoch 36/300\n",
      "11/11 [==============================] - 0s 1ms/step - loss: 0.3300 - accuracy: 0.8929 - val_loss: 0.2740 - val_accuracy: 0.8690\n",
      "Epoch 37/300\n",
      "11/11 [==============================] - 0s 2ms/step - loss: 0.3441 - accuracy: 0.8690 - val_loss: 0.2634 - val_accuracy: 0.8929\n",
      "Epoch 38/300\n",
      "11/11 [==============================] - 0s 2ms/step - loss: 0.3049 - accuracy: 0.8988 - val_loss: 0.2590 - val_accuracy: 0.8810\n",
      "Epoch 39/300\n",
      "11/11 [==============================] - 0s 2ms/step - loss: 0.3369 - accuracy: 0.8839 - val_loss: 0.2701 - val_accuracy: 0.8810\n",
      "Epoch 40/300\n",
      "11/11 [==============================] - 0s 2ms/step - loss: 0.3414 - accuracy: 0.8720 - val_loss: 0.2737 - val_accuracy: 0.8690\n",
      "Epoch 41/300\n",
      "11/11 [==============================] - 0s 2ms/step - loss: 0.3096 - accuracy: 0.9018 - val_loss: 0.2549 - val_accuracy: 0.8810\n",
      "Epoch 42/300\n",
      "11/11 [==============================] - 0s 3ms/step - loss: 0.2868 - accuracy: 0.8929 - val_loss: 0.2709 - val_accuracy: 0.8810\n",
      "Epoch 43/300\n",
      "11/11 [==============================] - 0s 2ms/step - loss: 0.2784 - accuracy: 0.9256 - val_loss: 0.2601 - val_accuracy: 0.8690\n",
      "Epoch 44/300\n",
      "11/11 [==============================] - 0s 1ms/step - loss: 0.2782 - accuracy: 0.8869 - val_loss: 0.2648 - val_accuracy: 0.8929\n",
      "Epoch 45/300\n",
      "11/11 [==============================] - 0s 2ms/step - loss: 0.2623 - accuracy: 0.9077 - val_loss: 0.2472 - val_accuracy: 0.8810\n",
      "Epoch 46/300\n",
      "11/11 [==============================] - 0s 2ms/step - loss: 0.2395 - accuracy: 0.9167 - val_loss: 0.2435 - val_accuracy: 0.8929\n",
      "Epoch 47/300\n",
      "11/11 [==============================] - 0s 2ms/step - loss: 0.2397 - accuracy: 0.9167 - val_loss: 0.2226 - val_accuracy: 0.8929\n",
      "Epoch 48/300\n",
      "11/11 [==============================] - 0s 2ms/step - loss: 0.2453 - accuracy: 0.9137 - val_loss: 0.2236 - val_accuracy: 0.8929\n",
      "Epoch 49/300\n",
      "11/11 [==============================] - 0s 2ms/step - loss: 0.2496 - accuracy: 0.9286 - val_loss: 0.2586 - val_accuracy: 0.8810\n",
      "Epoch 50/300\n",
      "11/11 [==============================] - 0s 2ms/step - loss: 0.2623 - accuracy: 0.9226 - val_loss: 0.2510 - val_accuracy: 0.8690\n",
      "Epoch 51/300\n",
      "11/11 [==============================] - 0s 2ms/step - loss: 0.2407 - accuracy: 0.9196 - val_loss: 0.2549 - val_accuracy: 0.8929\n",
      "Epoch 52/300\n",
      "11/11 [==============================] - 0s 2ms/step - loss: 0.2348 - accuracy: 0.9196 - val_loss: 0.2308 - val_accuracy: 0.8929\n",
      "Epoch 53/300\n",
      "11/11 [==============================] - 0s 2ms/step - loss: 0.2092 - accuracy: 0.9196 - val_loss: 0.2441 - val_accuracy: 0.8929\n",
      "Epoch 54/300\n",
      "11/11 [==============================] - 0s 2ms/step - loss: 0.2293 - accuracy: 0.9256 - val_loss: 0.2391 - val_accuracy: 0.9048\n",
      "Epoch 55/300\n",
      "11/11 [==============================] - 0s 2ms/step - loss: 0.2761 - accuracy: 0.8988 - val_loss: 0.2214 - val_accuracy: 0.8929\n",
      "Epoch 56/300\n",
      "11/11 [==============================] - 0s 2ms/step - loss: 0.2209 - accuracy: 0.9256 - val_loss: 0.2173 - val_accuracy: 0.9048\n",
      "Epoch 57/300\n",
      "11/11 [==============================] - 0s 2ms/step - loss: 0.1814 - accuracy: 0.9345 - val_loss: 0.2256 - val_accuracy: 0.8929\n",
      "Epoch 58/300\n",
      "11/11 [==============================] - 0s 2ms/step - loss: 0.2590 - accuracy: 0.9018 - val_loss: 0.2291 - val_accuracy: 0.8810\n",
      "Epoch 59/300\n",
      "11/11 [==============================] - 0s 2ms/step - loss: 0.2054 - accuracy: 0.9315 - val_loss: 0.2322 - val_accuracy: 0.9167\n",
      "Epoch 60/300\n",
      "11/11 [==============================] - 0s 1ms/step - loss: 0.1586 - accuracy: 0.9554 - val_loss: 0.2278 - val_accuracy: 0.8929\n",
      "Epoch 61/300\n",
      "11/11 [==============================] - 0s 1ms/step - loss: 0.2291 - accuracy: 0.9494 - val_loss: 0.2179 - val_accuracy: 0.9167\n",
      "Epoch 62/300\n",
      "11/11 [==============================] - 0s 2ms/step - loss: 0.2099 - accuracy: 0.9137 - val_loss: 0.2326 - val_accuracy: 0.9048\n",
      "Epoch 63/300\n",
      "11/11 [==============================] - 0s 1ms/step - loss: 0.2153 - accuracy: 0.9315 - val_loss: 0.2495 - val_accuracy: 0.8929\n",
      "Epoch 64/300\n",
      "11/11 [==============================] - 0s 1ms/step - loss: 0.1944 - accuracy: 0.9226 - val_loss: 0.2192 - val_accuracy: 0.8929\n",
      "Epoch 65/300\n",
      "11/11 [==============================] - 0s 2ms/step - loss: 0.1940 - accuracy: 0.9286 - val_loss: 0.2291 - val_accuracy: 0.9286\n",
      "Epoch 66/300\n",
      "11/11 [==============================] - 0s 2ms/step - loss: 0.1814 - accuracy: 0.9464 - val_loss: 0.2189 - val_accuracy: 0.9286\n",
      "Epoch 67/300\n",
      "11/11 [==============================] - 0s 2ms/step - loss: 0.2134 - accuracy: 0.9256 - val_loss: 0.2064 - val_accuracy: 0.8929\n",
      "Epoch 68/300\n",
      "11/11 [==============================] - 0s 2ms/step - loss: 0.1707 - accuracy: 0.9464 - val_loss: 0.2224 - val_accuracy: 0.9286\n",
      "Epoch 69/300\n",
      "11/11 [==============================] - 0s 2ms/step - loss: 0.1726 - accuracy: 0.9554 - val_loss: 0.2221 - val_accuracy: 0.9167\n",
      "Epoch 70/300\n",
      "11/11 [==============================] - 0s 2ms/step - loss: 0.1420 - accuracy: 0.9554 - val_loss: 0.2310 - val_accuracy: 0.8929\n",
      "Epoch 71/300\n",
      "11/11 [==============================] - 0s 1ms/step - loss: 0.1648 - accuracy: 0.9494 - val_loss: 0.2413 - val_accuracy: 0.8929\n",
      "Epoch 72/300\n",
      "11/11 [==============================] - 0s 2ms/step - loss: 0.1279 - accuracy: 0.9554 - val_loss: 0.2436 - val_accuracy: 0.9167\n",
      "Epoch 73/300\n",
      "11/11 [==============================] - 0s 2ms/step - loss: 0.1778 - accuracy: 0.9405 - val_loss: 0.2118 - val_accuracy: 0.9167\n",
      "Epoch 74/300\n",
      "11/11 [==============================] - 0s 2ms/step - loss: 0.1369 - accuracy: 0.9643 - val_loss: 0.2246 - val_accuracy: 0.9048\n",
      "Epoch 75/300\n",
      "11/11 [==============================] - 0s 1ms/step - loss: 0.1650 - accuracy: 0.9464 - val_loss: 0.1979 - val_accuracy: 0.9167\n",
      "Epoch 76/300\n",
      "11/11 [==============================] - 0s 2ms/step - loss: 0.1424 - accuracy: 0.9464 - val_loss: 0.1985 - val_accuracy: 0.9286\n",
      "Epoch 77/300\n",
      "11/11 [==============================] - 0s 1ms/step - loss: 0.1445 - accuracy: 0.9554 - val_loss: 0.2062 - val_accuracy: 0.8929\n",
      "Epoch 78/300\n",
      "11/11 [==============================] - 0s 1ms/step - loss: 0.1291 - accuracy: 0.9583 - val_loss: 0.2133 - val_accuracy: 0.9286\n",
      "Epoch 79/300\n",
      "11/11 [==============================] - 0s 2ms/step - loss: 0.1500 - accuracy: 0.9464 - val_loss: 0.2255 - val_accuracy: 0.9167\n",
      "Epoch 80/300\n",
      "11/11 [==============================] - 0s 1ms/step - loss: 0.1232 - accuracy: 0.9554 - val_loss: 0.2040 - val_accuracy: 0.9167\n",
      "Epoch 81/300\n",
      "11/11 [==============================] - 0s 2ms/step - loss: 0.1526 - accuracy: 0.9524 - val_loss: 0.2103 - val_accuracy: 0.9048\n",
      "Epoch 82/300\n",
      "11/11 [==============================] - 0s 2ms/step - loss: 0.1060 - accuracy: 0.9673 - val_loss: 0.2078 - val_accuracy: 0.9405\n",
      "Epoch 83/300\n",
      "11/11 [==============================] - 0s 2ms/step - loss: 0.1463 - accuracy: 0.9583 - val_loss: 0.2283 - val_accuracy: 0.9286\n",
      "Epoch 84/300\n",
      "11/11 [==============================] - 0s 2ms/step - loss: 0.1361 - accuracy: 0.9583 - val_loss: 0.1823 - val_accuracy: 0.9286\n",
      "Epoch 85/300\n",
      "11/11 [==============================] - 0s 2ms/step - loss: 0.1248 - accuracy: 0.9583 - val_loss: 0.2138 - val_accuracy: 0.9048\n",
      "Epoch 86/300\n",
      "11/11 [==============================] - 0s 2ms/step - loss: 0.1158 - accuracy: 0.9643 - val_loss: 0.2105 - val_accuracy: 0.9167\n",
      "Epoch 87/300\n",
      "11/11 [==============================] - 0s 2ms/step - loss: 0.1063 - accuracy: 0.9673 - val_loss: 0.2327 - val_accuracy: 0.9286\n",
      "Epoch 88/300\n",
      "11/11 [==============================] - 0s 2ms/step - loss: 0.1424 - accuracy: 0.9524 - val_loss: 0.2105 - val_accuracy: 0.9286\n",
      "Epoch 89/300\n",
      "11/11 [==============================] - 0s 2ms/step - loss: 0.0871 - accuracy: 0.9792 - val_loss: 0.1795 - val_accuracy: 0.9167\n",
      "Epoch 90/300\n",
      "11/11 [==============================] - 0s 2ms/step - loss: 0.1188 - accuracy: 0.9613 - val_loss: 0.2326 - val_accuracy: 0.9167\n",
      "Epoch 91/300\n",
      "11/11 [==============================] - 0s 2ms/step - loss: 0.0821 - accuracy: 0.9762 - val_loss: 0.2168 - val_accuracy: 0.9048\n",
      "Epoch 92/300\n",
      "11/11 [==============================] - 0s 2ms/step - loss: 0.0889 - accuracy: 0.9821 - val_loss: 0.2314 - val_accuracy: 0.9286\n",
      "Epoch 93/300\n",
      "11/11 [==============================] - 0s 2ms/step - loss: 0.1072 - accuracy: 0.9732 - val_loss: 0.2316 - val_accuracy: 0.9167\n",
      "Epoch 94/300\n",
      "11/11 [==============================] - 0s 2ms/step - loss: 0.1119 - accuracy: 0.9613 - val_loss: 0.2067 - val_accuracy: 0.9405\n",
      "Epoch 95/300\n",
      "11/11 [==============================] - 0s 2ms/step - loss: 0.0817 - accuracy: 0.9702 - val_loss: 0.2356 - val_accuracy: 0.9286\n",
      "Epoch 96/300\n",
      "11/11 [==============================] - 0s 2ms/step - loss: 0.0822 - accuracy: 0.9702 - val_loss: 0.2191 - val_accuracy: 0.9286\n",
      "Epoch 97/300\n",
      "11/11 [==============================] - 0s 2ms/step - loss: 0.0976 - accuracy: 0.9762 - val_loss: 0.2244 - val_accuracy: 0.9167\n",
      "Epoch 98/300\n",
      "11/11 [==============================] - 0s 2ms/step - loss: 0.0914 - accuracy: 0.9673 - val_loss: 0.2423 - val_accuracy: 0.9405\n",
      "Epoch 99/300\n",
      "11/11 [==============================] - 0s 1ms/step - loss: 0.0820 - accuracy: 0.9702 - val_loss: 0.2690 - val_accuracy: 0.9048\n",
      "Epoch 100/300\n",
      "11/11 [==============================] - 0s 2ms/step - loss: 0.0955 - accuracy: 0.9673 - val_loss: 0.1845 - val_accuracy: 0.9405\n",
      "Epoch 101/300\n",
      "11/11 [==============================] - 0s 2ms/step - loss: 0.0864 - accuracy: 0.9732 - val_loss: 0.1789 - val_accuracy: 0.9286\n",
      "Epoch 102/300\n",
      "11/11 [==============================] - 0s 2ms/step - loss: 0.1011 - accuracy: 0.9643 - val_loss: 0.2494 - val_accuracy: 0.9405\n",
      "Epoch 103/300\n",
      "11/11 [==============================] - 0s 2ms/step - loss: 0.0737 - accuracy: 0.9732 - val_loss: 0.2217 - val_accuracy: 0.9286\n",
      "Epoch 104/300\n",
      "11/11 [==============================] - 0s 2ms/step - loss: 0.1042 - accuracy: 0.9613 - val_loss: 0.2601 - val_accuracy: 0.9167\n",
      "Epoch 105/300\n",
      "11/11 [==============================] - 0s 1ms/step - loss: 0.0657 - accuracy: 0.9762 - val_loss: 0.2487 - val_accuracy: 0.9167\n",
      "Epoch 106/300\n",
      "11/11 [==============================] - 0s 2ms/step - loss: 0.1084 - accuracy: 0.9732 - val_loss: 0.2675 - val_accuracy: 0.9167\n",
      "Epoch 107/300\n",
      "11/11 [==============================] - 0s 2ms/step - loss: 0.0972 - accuracy: 0.9792 - val_loss: 0.2289 - val_accuracy: 0.9048\n",
      "Epoch 108/300\n",
      "11/11 [==============================] - 0s 2ms/step - loss: 0.0824 - accuracy: 0.9732 - val_loss: 0.2067 - val_accuracy: 0.9167\n",
      "Epoch 109/300\n",
      "11/11 [==============================] - 0s 2ms/step - loss: 0.0714 - accuracy: 0.9732 - val_loss: 0.2422 - val_accuracy: 0.9167\n",
      "Epoch 110/300\n",
      "11/11 [==============================] - 0s 2ms/step - loss: 0.0748 - accuracy: 0.9732 - val_loss: 0.2437 - val_accuracy: 0.9286\n",
      "Epoch 111/300\n",
      "11/11 [==============================] - 0s 2ms/step - loss: 0.1047 - accuracy: 0.9702 - val_loss: 0.2202 - val_accuracy: 0.9405\n",
      "Epoch 112/300\n",
      "11/11 [==============================] - 0s 2ms/step - loss: 0.1158 - accuracy: 0.9643 - val_loss: 0.2439 - val_accuracy: 0.9167\n",
      "Epoch 113/300\n",
      "11/11 [==============================] - 0s 2ms/step - loss: 0.0738 - accuracy: 0.9702 - val_loss: 0.2141 - val_accuracy: 0.9286\n",
      "Epoch 114/300\n",
      "11/11 [==============================] - 0s 2ms/step - loss: 0.0831 - accuracy: 0.9702 - val_loss: 0.2095 - val_accuracy: 0.9286\n",
      "Epoch 115/300\n",
      "11/11 [==============================] - 0s 2ms/step - loss: 0.0711 - accuracy: 0.9762 - val_loss: 0.2225 - val_accuracy: 0.9286\n",
      "Epoch 116/300\n",
      "11/11 [==============================] - 0s 2ms/step - loss: 0.0888 - accuracy: 0.9702 - val_loss: 0.2207 - val_accuracy: 0.9405\n",
      "Epoch 117/300\n",
      "11/11 [==============================] - 0s 2ms/step - loss: 0.0676 - accuracy: 0.9732 - val_loss: 0.2315 - val_accuracy: 0.9286\n",
      "Epoch 118/300\n",
      "11/11 [==============================] - 0s 2ms/step - loss: 0.0717 - accuracy: 0.9702 - val_loss: 0.2680 - val_accuracy: 0.9167\n",
      "Epoch 119/300\n",
      "11/11 [==============================] - 0s 2ms/step - loss: 0.1054 - accuracy: 0.9613 - val_loss: 0.2184 - val_accuracy: 0.9167\n",
      "Epoch 120/300\n",
      "11/11 [==============================] - 0s 2ms/step - loss: 0.0940 - accuracy: 0.9732 - val_loss: 0.2043 - val_accuracy: 0.9167\n",
      "Epoch 121/300\n",
      "11/11 [==============================] - 0s 2ms/step - loss: 0.0857 - accuracy: 0.9702 - val_loss: 0.2406 - val_accuracy: 0.9286\n",
      "Epoch 122/300\n",
      "11/11 [==============================] - 0s 2ms/step - loss: 0.0749 - accuracy: 0.9673 - val_loss: 0.1948 - val_accuracy: 0.9405\n",
      "Epoch 123/300\n",
      "11/11 [==============================] - 0s 2ms/step - loss: 0.0608 - accuracy: 0.9732 - val_loss: 0.2208 - val_accuracy: 0.9286\n",
      "Epoch 124/300\n",
      "11/11 [==============================] - 0s 2ms/step - loss: 0.0739 - accuracy: 0.9762 - val_loss: 0.2451 - val_accuracy: 0.9405\n",
      "Epoch 125/300\n",
      "11/11 [==============================] - 0s 2ms/step - loss: 0.0802 - accuracy: 0.9762 - val_loss: 0.2416 - val_accuracy: 0.9167\n",
      "Epoch 126/300\n",
      "11/11 [==============================] - 0s 2ms/step - loss: 0.0631 - accuracy: 0.9762 - val_loss: 0.2481 - val_accuracy: 0.9286\n",
      "Epoch 127/300\n",
      "11/11 [==============================] - 0s 1ms/step - loss: 0.0640 - accuracy: 0.9792 - val_loss: 0.2435 - val_accuracy: 0.9286\n",
      "Epoch 128/300\n",
      "11/11 [==============================] - 0s 2ms/step - loss: 0.0496 - accuracy: 0.9881 - val_loss: 0.2569 - val_accuracy: 0.9405\n",
      "Epoch 129/300\n",
      "11/11 [==============================] - 0s 1ms/step - loss: 0.0482 - accuracy: 0.9911 - val_loss: 0.2647 - val_accuracy: 0.9286\n",
      "Epoch 130/300\n",
      "11/11 [==============================] - 0s 2ms/step - loss: 0.0618 - accuracy: 0.9792 - val_loss: 0.2649 - val_accuracy: 0.9286\n",
      "Epoch 131/300\n",
      "11/11 [==============================] - 0s 2ms/step - loss: 0.0717 - accuracy: 0.9792 - val_loss: 0.3388 - val_accuracy: 0.9286\n",
      "Epoch 132/300\n",
      "11/11 [==============================] - 0s 2ms/step - loss: 0.0429 - accuracy: 0.9821 - val_loss: 0.2914 - val_accuracy: 0.9286\n",
      "Epoch 133/300\n",
      "11/11 [==============================] - 0s 2ms/step - loss: 0.0508 - accuracy: 0.9792 - val_loss: 0.3288 - val_accuracy: 0.9167\n",
      "Epoch 134/300\n",
      "11/11 [==============================] - 0s 2ms/step - loss: 0.0502 - accuracy: 0.9911 - val_loss: 0.3427 - val_accuracy: 0.9167\n",
      "Epoch 135/300\n",
      "11/11 [==============================] - 0s 2ms/step - loss: 0.0571 - accuracy: 0.9732 - val_loss: 0.3475 - val_accuracy: 0.9286\n",
      "Epoch 136/300\n",
      "11/11 [==============================] - 0s 2ms/step - loss: 0.0698 - accuracy: 0.9762 - val_loss: 0.3085 - val_accuracy: 0.9405\n",
      "Epoch 137/300\n",
      "11/11 [==============================] - 0s 2ms/step - loss: 0.0633 - accuracy: 0.9732 - val_loss: 0.3197 - val_accuracy: 0.9286\n",
      "Epoch 138/300\n",
      "11/11 [==============================] - 0s 2ms/step - loss: 0.0716 - accuracy: 0.9792 - val_loss: 0.3406 - val_accuracy: 0.9286\n",
      "Epoch 139/300\n",
      "11/11 [==============================] - 0s 2ms/step - loss: 0.0512 - accuracy: 0.9821 - val_loss: 0.2831 - val_accuracy: 0.9405\n",
      "Epoch 140/300\n",
      "11/11 [==============================] - 0s 2ms/step - loss: 0.0552 - accuracy: 0.9792 - val_loss: 0.3065 - val_accuracy: 0.9286\n",
      "Epoch 141/300\n",
      "11/11 [==============================] - 0s 2ms/step - loss: 0.0589 - accuracy: 0.9821 - val_loss: 0.2909 - val_accuracy: 0.9286\n",
      "Epoch 142/300\n",
      "11/11 [==============================] - 0s 2ms/step - loss: 0.0607 - accuracy: 0.9851 - val_loss: 0.3175 - val_accuracy: 0.9286\n",
      "Epoch 143/300\n",
      "11/11 [==============================] - 0s 2ms/step - loss: 0.0516 - accuracy: 0.9821 - val_loss: 0.3103 - val_accuracy: 0.9405\n",
      "Epoch 144/300\n",
      "11/11 [==============================] - 0s 2ms/step - loss: 0.0460 - accuracy: 0.9881 - val_loss: 0.3741 - val_accuracy: 0.9167\n",
      "Epoch 145/300\n",
      "11/11 [==============================] - 0s 2ms/step - loss: 0.0720 - accuracy: 0.9821 - val_loss: 0.2642 - val_accuracy: 0.9167\n",
      "Epoch 146/300\n",
      "11/11 [==============================] - 0s 2ms/step - loss: 0.0801 - accuracy: 0.9702 - val_loss: 0.2909 - val_accuracy: 0.9286\n",
      "Epoch 147/300\n",
      "11/11 [==============================] - 0s 1ms/step - loss: 0.0347 - accuracy: 0.9821 - val_loss: 0.2790 - val_accuracy: 0.9286\n",
      "Epoch 148/300\n",
      "11/11 [==============================] - 0s 2ms/step - loss: 0.0724 - accuracy: 0.9762 - val_loss: 0.2793 - val_accuracy: 0.9405\n",
      "Epoch 149/300\n",
      "11/11 [==============================] - 0s 2ms/step - loss: 0.0460 - accuracy: 0.9821 - val_loss: 0.3043 - val_accuracy: 0.9286\n",
      "Epoch 150/300\n",
      "11/11 [==============================] - 0s 2ms/step - loss: 0.0357 - accuracy: 0.9881 - val_loss: 0.2704 - val_accuracy: 0.9286\n",
      "Epoch 151/300\n",
      "11/11 [==============================] - 0s 2ms/step - loss: 0.0785 - accuracy: 0.9792 - val_loss: 0.3205 - val_accuracy: 0.9286\n",
      "Epoch 152/300\n",
      "11/11 [==============================] - 0s 2ms/step - loss: 0.0442 - accuracy: 0.9881 - val_loss: 0.3138 - val_accuracy: 0.9286\n",
      "Epoch 153/300\n",
      "11/11 [==============================] - 0s 2ms/step - loss: 0.0589 - accuracy: 0.9732 - val_loss: 0.2516 - val_accuracy: 0.9167\n",
      "Epoch 154/300\n",
      "11/11 [==============================] - 0s 2ms/step - loss: 0.0508 - accuracy: 0.9821 - val_loss: 0.2907 - val_accuracy: 0.9167\n",
      "Epoch 155/300\n",
      "11/11 [==============================] - 0s 2ms/step - loss: 0.0324 - accuracy: 0.9940 - val_loss: 0.2533 - val_accuracy: 0.9286\n",
      "Epoch 156/300\n",
      "11/11 [==============================] - 0s 2ms/step - loss: 0.0728 - accuracy: 0.9702 - val_loss: 0.2551 - val_accuracy: 0.9286\n",
      "Epoch 157/300\n",
      "11/11 [==============================] - 0s 2ms/step - loss: 0.0317 - accuracy: 0.9881 - val_loss: 0.2557 - val_accuracy: 0.9405\n",
      "Epoch 158/300\n",
      "11/11 [==============================] - 0s 2ms/step - loss: 0.0659 - accuracy: 0.9821 - val_loss: 0.2346 - val_accuracy: 0.9405\n",
      "Epoch 159/300\n",
      "11/11 [==============================] - 0s 2ms/step - loss: 0.0608 - accuracy: 0.9792 - val_loss: 0.2991 - val_accuracy: 0.9286\n",
      "Epoch 160/300\n",
      "11/11 [==============================] - 0s 2ms/step - loss: 0.0381 - accuracy: 0.9792 - val_loss: 0.2414 - val_accuracy: 0.9286\n",
      "Epoch 161/300\n",
      "11/11 [==============================] - 0s 2ms/step - loss: 0.0513 - accuracy: 0.9851 - val_loss: 0.2909 - val_accuracy: 0.9167\n",
      "Epoch 162/300\n",
      "11/11 [==============================] - 0s 2ms/step - loss: 0.0351 - accuracy: 0.9911 - val_loss: 0.2971 - val_accuracy: 0.9286\n",
      "Epoch 163/300\n",
      "11/11 [==============================] - 0s 2ms/step - loss: 0.0350 - accuracy: 0.9851 - val_loss: 0.3370 - val_accuracy: 0.9167\n",
      "Epoch 164/300\n",
      "11/11 [==============================] - 0s 2ms/step - loss: 0.0531 - accuracy: 0.9821 - val_loss: 0.2264 - val_accuracy: 0.9286\n",
      "Epoch 165/300\n",
      "11/11 [==============================] - 0s 2ms/step - loss: 0.0564 - accuracy: 0.9821 - val_loss: 0.2984 - val_accuracy: 0.9405\n",
      "Epoch 166/300\n",
      "11/11 [==============================] - 0s 2ms/step - loss: 0.0294 - accuracy: 0.9911 - val_loss: 0.3023 - val_accuracy: 0.9167\n",
      "Epoch 167/300\n",
      "11/11 [==============================] - 0s 2ms/step - loss: 0.0375 - accuracy: 0.9881 - val_loss: 0.3230 - val_accuracy: 0.9286\n",
      "Epoch 168/300\n",
      "11/11 [==============================] - 0s 2ms/step - loss: 0.0514 - accuracy: 0.9851 - val_loss: 0.3034 - val_accuracy: 0.9167\n",
      "Epoch 169/300\n",
      "11/11 [==============================] - 0s 2ms/step - loss: 0.0385 - accuracy: 0.9911 - val_loss: 0.3020 - val_accuracy: 0.9286\n",
      "Epoch 170/300\n",
      "11/11 [==============================] - 0s 2ms/step - loss: 0.0439 - accuracy: 0.9851 - val_loss: 0.3150 - val_accuracy: 0.9286\n",
      "Epoch 171/300\n",
      "11/11 [==============================] - 0s 2ms/step - loss: 0.0757 - accuracy: 0.9851 - val_loss: 0.3223 - val_accuracy: 0.9286\n",
      "Epoch 172/300\n",
      "11/11 [==============================] - 0s 2ms/step - loss: 0.0407 - accuracy: 0.9911 - val_loss: 0.2725 - val_accuracy: 0.9405\n",
      "Epoch 173/300\n",
      "11/11 [==============================] - 0s 2ms/step - loss: 0.0453 - accuracy: 0.9911 - val_loss: 0.2584 - val_accuracy: 0.9405\n",
      "Epoch 174/300\n",
      "11/11 [==============================] - 0s 2ms/step - loss: 0.0485 - accuracy: 0.9821 - val_loss: 0.3021 - val_accuracy: 0.9286\n",
      "Epoch 175/300\n",
      "11/11 [==============================] - 0s 2ms/step - loss: 0.0590 - accuracy: 0.9851 - val_loss: 0.3103 - val_accuracy: 0.9286\n",
      "Epoch 176/300\n",
      "11/11 [==============================] - 0s 1ms/step - loss: 0.0207 - accuracy: 0.9970 - val_loss: 0.2659 - val_accuracy: 0.9405\n",
      "Epoch 177/300\n",
      "11/11 [==============================] - 0s 2ms/step - loss: 0.0758 - accuracy: 0.9821 - val_loss: 0.3563 - val_accuracy: 0.9167\n",
      "Epoch 178/300\n",
      "11/11 [==============================] - 0s 2ms/step - loss: 0.0324 - accuracy: 0.9911 - val_loss: 0.3425 - val_accuracy: 0.9286\n",
      "Epoch 179/300\n",
      "11/11 [==============================] - 0s 2ms/step - loss: 0.0254 - accuracy: 0.9940 - val_loss: 0.3323 - val_accuracy: 0.9167\n",
      "Epoch 180/300\n",
      "11/11 [==============================] - 0s 2ms/step - loss: 0.0901 - accuracy: 0.9792 - val_loss: 0.2411 - val_accuracy: 0.9286\n",
      "Epoch 181/300\n",
      "11/11 [==============================] - 0s 2ms/step - loss: 0.0730 - accuracy: 0.9732 - val_loss: 0.3157 - val_accuracy: 0.9167\n",
      "Epoch 182/300\n",
      "11/11 [==============================] - 0s 2ms/step - loss: 0.0447 - accuracy: 0.9821 - val_loss: 0.3304 - val_accuracy: 0.9167\n",
      "Epoch 183/300\n",
      "11/11 [==============================] - 0s 2ms/step - loss: 0.0405 - accuracy: 0.9881 - val_loss: 0.3290 - val_accuracy: 0.9405\n",
      "Epoch 184/300\n",
      "11/11 [==============================] - 0s 2ms/step - loss: 0.0235 - accuracy: 0.9911 - val_loss: 0.2954 - val_accuracy: 0.9286\n",
      "Epoch 185/300\n",
      "11/11 [==============================] - 0s 2ms/step - loss: 0.0524 - accuracy: 0.9851 - val_loss: 0.3153 - val_accuracy: 0.9286\n",
      "Epoch 186/300\n",
      "11/11 [==============================] - 0s 2ms/step - loss: 0.0288 - accuracy: 0.9911 - val_loss: 0.3445 - val_accuracy: 0.9167\n",
      "Epoch 187/300\n",
      "11/11 [==============================] - 0s 2ms/step - loss: 0.0454 - accuracy: 0.9851 - val_loss: 0.3789 - val_accuracy: 0.9286\n",
      "Epoch 188/300\n",
      "11/11 [==============================] - 0s 2ms/step - loss: 0.0524 - accuracy: 0.9792 - val_loss: 0.3192 - val_accuracy: 0.9405\n",
      "Epoch 189/300\n",
      "11/11 [==============================] - 0s 2ms/step - loss: 0.0465 - accuracy: 0.9821 - val_loss: 0.3190 - val_accuracy: 0.9286\n",
      "Epoch 190/300\n",
      "11/11 [==============================] - 0s 2ms/step - loss: 0.0232 - accuracy: 0.9940 - val_loss: 0.3269 - val_accuracy: 0.9286\n",
      "Epoch 191/300\n",
      "11/11 [==============================] - 0s 2ms/step - loss: 0.0393 - accuracy: 0.9911 - val_loss: 0.3233 - val_accuracy: 0.9286\n",
      "Epoch 192/300\n",
      "11/11 [==============================] - 0s 2ms/step - loss: 0.0481 - accuracy: 0.9851 - val_loss: 0.3264 - val_accuracy: 0.9286\n",
      "Epoch 193/300\n",
      "11/11 [==============================] - 0s 2ms/step - loss: 0.0291 - accuracy: 0.9911 - val_loss: 0.3371 - val_accuracy: 0.9405\n",
      "Epoch 194/300\n",
      "11/11 [==============================] - 0s 2ms/step - loss: 0.0434 - accuracy: 0.9792 - val_loss: 0.2625 - val_accuracy: 0.9524\n",
      "Epoch 195/300\n",
      "11/11 [==============================] - 0s 2ms/step - loss: 0.0315 - accuracy: 0.9911 - val_loss: 0.3402 - val_accuracy: 0.9405\n",
      "Epoch 196/300\n",
      "11/11 [==============================] - 0s 2ms/step - loss: 0.0283 - accuracy: 0.9940 - val_loss: 0.3478 - val_accuracy: 0.9405\n",
      "Epoch 197/300\n",
      "11/11 [==============================] - 0s 2ms/step - loss: 0.0275 - accuracy: 0.9881 - val_loss: 0.3621 - val_accuracy: 0.9405\n",
      "Epoch 198/300\n",
      "11/11 [==============================] - 0s 3ms/step - loss: 0.0675 - accuracy: 0.9792 - val_loss: 0.3109 - val_accuracy: 0.9405\n",
      "Epoch 199/300\n",
      "11/11 [==============================] - 0s 2ms/step - loss: 0.0241 - accuracy: 0.9940 - val_loss: 0.3432 - val_accuracy: 0.9405\n",
      "Epoch 200/300\n",
      "11/11 [==============================] - 0s 2ms/step - loss: 0.0226 - accuracy: 0.9911 - val_loss: 0.3113 - val_accuracy: 0.9286\n",
      "Epoch 201/300\n",
      "11/11 [==============================] - 0s 1ms/step - loss: 0.0491 - accuracy: 0.9881 - val_loss: 0.3328 - val_accuracy: 0.9286\n",
      "Epoch 202/300\n",
      "11/11 [==============================] - 0s 2ms/step - loss: 0.0221 - accuracy: 0.9911 - val_loss: 0.3117 - val_accuracy: 0.9286\n",
      "Epoch 203/300\n",
      "11/11 [==============================] - 0s 2ms/step - loss: 0.0519 - accuracy: 0.9881 - val_loss: 0.3294 - val_accuracy: 0.9048\n",
      "Epoch 204/300\n",
      "11/11 [==============================] - 0s 2ms/step - loss: 0.0236 - accuracy: 0.9881 - val_loss: 0.3471 - val_accuracy: 0.9167\n",
      "Epoch 205/300\n",
      "11/11 [==============================] - 0s 2ms/step - loss: 0.0277 - accuracy: 0.9940 - val_loss: 0.3246 - val_accuracy: 0.9405\n",
      "Epoch 206/300\n",
      "11/11 [==============================] - 0s 2ms/step - loss: 0.0402 - accuracy: 0.9881 - val_loss: 0.3633 - val_accuracy: 0.9286\n",
      "Epoch 207/300\n",
      "11/11 [==============================] - 0s 2ms/step - loss: 0.0192 - accuracy: 0.9940 - val_loss: 0.3631 - val_accuracy: 0.9286\n",
      "Epoch 208/300\n",
      "11/11 [==============================] - 0s 2ms/step - loss: 0.0413 - accuracy: 0.9881 - val_loss: 0.3819 - val_accuracy: 0.9286\n",
      "Epoch 209/300\n",
      "11/11 [==============================] - 0s 2ms/step - loss: 0.0148 - accuracy: 0.9940 - val_loss: 0.4442 - val_accuracy: 0.9286\n",
      "Epoch 210/300\n",
      "11/11 [==============================] - 0s 2ms/step - loss: 0.0343 - accuracy: 0.9821 - val_loss: 0.4431 - val_accuracy: 0.9286\n",
      "Epoch 211/300\n",
      "11/11 [==============================] - 0s 2ms/step - loss: 0.0135 - accuracy: 1.0000 - val_loss: 0.3755 - val_accuracy: 0.9286\n",
      "Epoch 212/300\n",
      "11/11 [==============================] - 0s 2ms/step - loss: 0.0350 - accuracy: 0.9881 - val_loss: 0.4065 - val_accuracy: 0.9405\n",
      "Epoch 213/300\n",
      "11/11 [==============================] - 0s 2ms/step - loss: 0.0332 - accuracy: 0.9851 - val_loss: 0.3963 - val_accuracy: 0.9286\n",
      "Epoch 214/300\n",
      "11/11 [==============================] - 0s 2ms/step - loss: 0.0195 - accuracy: 0.9970 - val_loss: 0.3613 - val_accuracy: 0.9286\n",
      "Epoch 215/300\n",
      "11/11 [==============================] - 0s 2ms/step - loss: 0.0377 - accuracy: 0.9940 - val_loss: 0.3408 - val_accuracy: 0.9405\n",
      "Epoch 216/300\n",
      "11/11 [==============================] - 0s 1ms/step - loss: 0.0265 - accuracy: 0.9881 - val_loss: 0.4096 - val_accuracy: 0.9405\n",
      "Epoch 217/300\n",
      "11/11 [==============================] - 0s 1ms/step - loss: 0.0501 - accuracy: 0.9940 - val_loss: 0.4240 - val_accuracy: 0.9405\n",
      "Epoch 218/300\n",
      "11/11 [==============================] - 0s 2ms/step - loss: 0.0267 - accuracy: 0.9940 - val_loss: 0.3360 - val_accuracy: 0.9405\n",
      "Epoch 219/300\n",
      "11/11 [==============================] - 0s 1ms/step - loss: 0.0253 - accuracy: 0.9911 - val_loss: 0.3420 - val_accuracy: 0.9286\n",
      "Epoch 220/300\n",
      "11/11 [==============================] - 0s 1ms/step - loss: 0.0289 - accuracy: 0.9911 - val_loss: 0.3897 - val_accuracy: 0.9405\n",
      "Epoch 221/300\n",
      "11/11 [==============================] - 0s 1ms/step - loss: 0.0195 - accuracy: 0.9970 - val_loss: 0.3877 - val_accuracy: 0.9286\n",
      "Epoch 222/300\n",
      "11/11 [==============================] - 0s 1ms/step - loss: 0.0396 - accuracy: 0.9911 - val_loss: 0.3513 - val_accuracy: 0.9405\n",
      "Epoch 223/300\n",
      "11/11 [==============================] - 0s 1ms/step - loss: 0.0184 - accuracy: 0.9911 - val_loss: 0.3465 - val_accuracy: 0.9405\n",
      "Epoch 224/300\n",
      "11/11 [==============================] - 0s 1ms/step - loss: 0.0432 - accuracy: 0.9851 - val_loss: 0.3652 - val_accuracy: 0.9405\n",
      "Epoch 225/300\n",
      "11/11 [==============================] - 0s 1ms/step - loss: 0.0313 - accuracy: 0.9911 - val_loss: 0.2870 - val_accuracy: 0.9405\n",
      "Epoch 226/300\n",
      "11/11 [==============================] - 0s 2ms/step - loss: 0.0689 - accuracy: 0.9762 - val_loss: 0.3294 - val_accuracy: 0.9405\n",
      "Epoch 227/300\n",
      "11/11 [==============================] - 0s 1ms/step - loss: 0.0343 - accuracy: 0.9881 - val_loss: 0.3269 - val_accuracy: 0.9286\n",
      "Epoch 228/300\n",
      "11/11 [==============================] - 0s 2ms/step - loss: 0.0241 - accuracy: 0.9911 - val_loss: 0.3241 - val_accuracy: 0.9286\n",
      "Epoch 229/300\n",
      "11/11 [==============================] - 0s 2ms/step - loss: 0.0220 - accuracy: 0.9881 - val_loss: 0.3174 - val_accuracy: 0.9286\n",
      "Epoch 230/300\n",
      "11/11 [==============================] - 0s 1ms/step - loss: 0.0300 - accuracy: 0.9940 - val_loss: 0.3213 - val_accuracy: 0.9286\n",
      "Epoch 231/300\n",
      "11/11 [==============================] - 0s 2ms/step - loss: 0.0369 - accuracy: 0.9851 - val_loss: 0.3246 - val_accuracy: 0.9286\n",
      "Epoch 232/300\n",
      "11/11 [==============================] - 0s 1ms/step - loss: 0.0128 - accuracy: 0.9970 - val_loss: 0.3168 - val_accuracy: 0.9405\n",
      "Epoch 233/300\n",
      "11/11 [==============================] - 0s 2ms/step - loss: 0.0423 - accuracy: 0.9940 - val_loss: 0.3290 - val_accuracy: 0.9405\n",
      "Epoch 234/300\n",
      "11/11 [==============================] - 0s 2ms/step - loss: 0.0145 - accuracy: 0.9970 - val_loss: 0.3815 - val_accuracy: 0.9405\n",
      "Epoch 235/300\n",
      "11/11 [==============================] - 0s 1ms/step - loss: 0.0290 - accuracy: 0.9940 - val_loss: 0.3582 - val_accuracy: 0.9405\n",
      "Epoch 236/300\n",
      "11/11 [==============================] - 0s 2ms/step - loss: 0.0221 - accuracy: 0.9911 - val_loss: 0.3704 - val_accuracy: 0.9286\n",
      "Epoch 237/300\n",
      "11/11 [==============================] - 0s 2ms/step - loss: 0.0238 - accuracy: 0.9970 - val_loss: 0.3932 - val_accuracy: 0.9286\n",
      "Epoch 238/300\n",
      "11/11 [==============================] - 0s 1ms/step - loss: 0.0318 - accuracy: 0.9881 - val_loss: 0.3574 - val_accuracy: 0.9405\n",
      "Epoch 239/300\n",
      "11/11 [==============================] - 0s 2ms/step - loss: 0.0385 - accuracy: 0.9881 - val_loss: 0.3803 - val_accuracy: 0.9405\n",
      "Epoch 240/300\n",
      "11/11 [==============================] - 0s 2ms/step - loss: 0.0297 - accuracy: 0.9940 - val_loss: 0.3397 - val_accuracy: 0.9167\n",
      "Epoch 241/300\n",
      "11/11 [==============================] - 0s 1ms/step - loss: 0.0281 - accuracy: 0.9881 - val_loss: 0.3694 - val_accuracy: 0.9167\n",
      "Epoch 242/300\n",
      "11/11 [==============================] - 0s 2ms/step - loss: 0.0204 - accuracy: 0.9911 - val_loss: 0.4195 - val_accuracy: 0.9405\n",
      "Epoch 243/300\n",
      "11/11 [==============================] - 0s 2ms/step - loss: 0.0312 - accuracy: 0.9792 - val_loss: 0.4548 - val_accuracy: 0.9405\n",
      "Epoch 244/300\n",
      "11/11 [==============================] - 0s 2ms/step - loss: 0.0840 - accuracy: 0.9792 - val_loss: 0.4152 - val_accuracy: 0.9167\n",
      "Epoch 245/300\n",
      "11/11 [==============================] - 0s 2ms/step - loss: 0.0257 - accuracy: 0.9970 - val_loss: 0.4020 - val_accuracy: 0.9167\n",
      "Epoch 246/300\n",
      "11/11 [==============================] - 0s 2ms/step - loss: 0.0378 - accuracy: 0.9851 - val_loss: 0.4046 - val_accuracy: 0.9405\n",
      "Epoch 247/300\n",
      "11/11 [==============================] - 0s 2ms/step - loss: 0.0077 - accuracy: 1.0000 - val_loss: 0.3748 - val_accuracy: 0.9405\n",
      "Epoch 248/300\n",
      "11/11 [==============================] - 0s 2ms/step - loss: 0.0234 - accuracy: 0.9940 - val_loss: 0.3264 - val_accuracy: 0.9524\n",
      "Epoch 249/300\n",
      "11/11 [==============================] - 0s 2ms/step - loss: 0.0083 - accuracy: 0.9970 - val_loss: 0.3414 - val_accuracy: 0.9286\n",
      "Epoch 250/300\n",
      "11/11 [==============================] - 0s 2ms/step - loss: 0.0372 - accuracy: 0.9911 - val_loss: 0.3833 - val_accuracy: 0.9167\n",
      "Epoch 251/300\n",
      "11/11 [==============================] - 0s 2ms/step - loss: 0.0082 - accuracy: 1.0000 - val_loss: 0.4077 - val_accuracy: 0.9167\n",
      "Epoch 252/300\n",
      "11/11 [==============================] - 0s 2ms/step - loss: 0.0562 - accuracy: 0.9851 - val_loss: 0.3821 - val_accuracy: 0.9286\n",
      "Epoch 253/300\n",
      "11/11 [==============================] - 0s 2ms/step - loss: 0.0122 - accuracy: 0.9940 - val_loss: 0.3501 - val_accuracy: 0.9524\n",
      "Epoch 254/300\n",
      "11/11 [==============================] - 0s 1ms/step - loss: 0.0287 - accuracy: 0.9911 - val_loss: 0.3085 - val_accuracy: 0.9524\n",
      "Epoch 255/300\n",
      "11/11 [==============================] - 0s 1ms/step - loss: 0.0370 - accuracy: 0.9851 - val_loss: 0.2926 - val_accuracy: 0.9405\n",
      "Epoch 256/300\n",
      "11/11 [==============================] - 0s 2ms/step - loss: 0.0211 - accuracy: 0.9940 - val_loss: 0.3886 - val_accuracy: 0.9286\n",
      "Epoch 257/300\n",
      "11/11 [==============================] - 0s 2ms/step - loss: 0.0083 - accuracy: 1.0000 - val_loss: 0.3710 - val_accuracy: 0.9286\n",
      "Epoch 258/300\n",
      "11/11 [==============================] - 0s 1ms/step - loss: 0.0360 - accuracy: 0.9851 - val_loss: 0.3824 - val_accuracy: 0.9405\n",
      "Epoch 259/300\n",
      "11/11 [==============================] - 0s 2ms/step - loss: 0.0153 - accuracy: 0.9940 - val_loss: 0.4455 - val_accuracy: 0.9286\n",
      "Epoch 260/300\n",
      "11/11 [==============================] - 0s 2ms/step - loss: 0.0236 - accuracy: 0.9911 - val_loss: 0.4311 - val_accuracy: 0.9286\n",
      "Epoch 261/300\n",
      "11/11 [==============================] - 0s 2ms/step - loss: 0.0194 - accuracy: 0.9911 - val_loss: 0.3694 - val_accuracy: 0.9286\n",
      "Epoch 262/300\n",
      "11/11 [==============================] - 0s 2ms/step - loss: 0.0353 - accuracy: 0.9851 - val_loss: 0.3700 - val_accuracy: 0.9286\n",
      "Epoch 263/300\n",
      "11/11 [==============================] - 0s 2ms/step - loss: 0.0356 - accuracy: 0.9851 - val_loss: 0.3848 - val_accuracy: 0.9286\n",
      "Epoch 264/300\n",
      "11/11 [==============================] - 0s 2ms/step - loss: 0.0173 - accuracy: 0.9940 - val_loss: 0.4314 - val_accuracy: 0.9286\n",
      "Epoch 265/300\n",
      "11/11 [==============================] - 0s 2ms/step - loss: 0.0224 - accuracy: 0.9881 - val_loss: 0.3819 - val_accuracy: 0.9524\n",
      "Epoch 266/300\n",
      "11/11 [==============================] - 0s 2ms/step - loss: 0.0316 - accuracy: 0.9881 - val_loss: 0.4441 - val_accuracy: 0.9286\n",
      "Epoch 267/300\n",
      "11/11 [==============================] - 0s 2ms/step - loss: 0.0162 - accuracy: 0.9940 - val_loss: 0.3933 - val_accuracy: 0.9405\n",
      "Epoch 268/300\n",
      "11/11 [==============================] - 0s 1ms/step - loss: 0.0223 - accuracy: 0.9911 - val_loss: 0.3606 - val_accuracy: 0.9286\n",
      "Epoch 269/300\n",
      "11/11 [==============================] - 0s 2ms/step - loss: 0.0596 - accuracy: 0.9821 - val_loss: 0.4037 - val_accuracy: 0.9405\n",
      "Epoch 270/300\n",
      "11/11 [==============================] - 0s 2ms/step - loss: 0.0297 - accuracy: 0.9940 - val_loss: 0.3842 - val_accuracy: 0.9524\n",
      "Epoch 271/300\n",
      "11/11 [==============================] - 0s 2ms/step - loss: 0.0084 - accuracy: 1.0000 - val_loss: 0.3704 - val_accuracy: 0.9405\n",
      "Epoch 272/300\n",
      "11/11 [==============================] - 0s 2ms/step - loss: 0.0101 - accuracy: 0.9970 - val_loss: 0.4069 - val_accuracy: 0.9286\n",
      "Epoch 273/300\n",
      "11/11 [==============================] - 0s 2ms/step - loss: 0.0306 - accuracy: 0.9911 - val_loss: 0.3573 - val_accuracy: 0.9167\n",
      "Epoch 274/300\n",
      "11/11 [==============================] - 0s 1ms/step - loss: 0.0377 - accuracy: 0.9940 - val_loss: 0.3758 - val_accuracy: 0.9167\n",
      "Epoch 275/300\n",
      "11/11 [==============================] - 0s 1ms/step - loss: 0.0145 - accuracy: 0.9970 - val_loss: 0.3843 - val_accuracy: 0.9286\n",
      "Epoch 276/300\n",
      "11/11 [==============================] - 0s 2ms/step - loss: 0.0231 - accuracy: 0.9940 - val_loss: 0.4487 - val_accuracy: 0.9286\n",
      "Epoch 277/300\n",
      "11/11 [==============================] - 0s 2ms/step - loss: 0.0218 - accuracy: 0.9940 - val_loss: 0.4366 - val_accuracy: 0.9405\n",
      "Epoch 278/300\n",
      "11/11 [==============================] - 0s 1ms/step - loss: 0.0125 - accuracy: 0.9970 - val_loss: 0.4841 - val_accuracy: 0.9286\n",
      "Epoch 279/300\n",
      "11/11 [==============================] - 0s 2ms/step - loss: 0.0319 - accuracy: 0.9911 - val_loss: 0.4416 - val_accuracy: 0.9286\n",
      "Epoch 280/300\n",
      "11/11 [==============================] - 0s 2ms/step - loss: 0.0305 - accuracy: 0.9881 - val_loss: 0.3696 - val_accuracy: 0.9286\n",
      "Epoch 281/300\n",
      "11/11 [==============================] - 0s 1ms/step - loss: 0.0366 - accuracy: 0.9881 - val_loss: 0.3708 - val_accuracy: 0.9405\n",
      "Epoch 282/300\n",
      "11/11 [==============================] - 0s 2ms/step - loss: 0.0505 - accuracy: 0.9881 - val_loss: 0.3835 - val_accuracy: 0.9524\n",
      "Epoch 283/300\n",
      "11/11 [==============================] - 0s 1ms/step - loss: 0.0525 - accuracy: 0.9940 - val_loss: 0.3644 - val_accuracy: 0.9405\n",
      "Epoch 284/300\n",
      "11/11 [==============================] - 0s 1ms/step - loss: 0.0257 - accuracy: 0.9911 - val_loss: 0.3705 - val_accuracy: 0.9286\n",
      "Epoch 285/300\n",
      "11/11 [==============================] - 0s 2ms/step - loss: 0.0144 - accuracy: 0.9970 - val_loss: 0.3427 - val_accuracy: 0.9524\n",
      "Epoch 286/300\n",
      "11/11 [==============================] - 0s 1ms/step - loss: 0.0182 - accuracy: 0.9911 - val_loss: 0.3301 - val_accuracy: 0.9286\n",
      "Epoch 287/300\n",
      "11/11 [==============================] - 0s 1ms/step - loss: 0.0332 - accuracy: 0.9851 - val_loss: 0.3689 - val_accuracy: 0.9286\n",
      "Epoch 288/300\n",
      "11/11 [==============================] - 0s 2ms/step - loss: 0.0333 - accuracy: 0.9911 - val_loss: 0.4110 - val_accuracy: 0.9286\n",
      "Epoch 289/300\n",
      "11/11 [==============================] - 0s 2ms/step - loss: 0.0212 - accuracy: 0.9911 - val_loss: 0.4246 - val_accuracy: 0.9405\n",
      "Epoch 290/300\n",
      "11/11 [==============================] - 0s 2ms/step - loss: 0.0391 - accuracy: 0.9940 - val_loss: 0.4392 - val_accuracy: 0.9286\n",
      "Epoch 291/300\n",
      "11/11 [==============================] - 0s 2ms/step - loss: 0.0251 - accuracy: 0.9970 - val_loss: 0.4533 - val_accuracy: 0.9286\n",
      "Epoch 292/300\n",
      "11/11 [==============================] - 0s 1ms/step - loss: 0.0134 - accuracy: 0.9970 - val_loss: 0.4288 - val_accuracy: 0.9286\n",
      "Epoch 293/300\n",
      "11/11 [==============================] - 0s 1ms/step - loss: 0.0170 - accuracy: 0.9911 - val_loss: 0.4653 - val_accuracy: 0.9286\n",
      "Epoch 294/300\n",
      "11/11 [==============================] - 0s 1ms/step - loss: 0.0575 - accuracy: 0.9911 - val_loss: 0.4361 - val_accuracy: 0.9286\n",
      "Epoch 295/300\n",
      "11/11 [==============================] - 0s 2ms/step - loss: 0.0093 - accuracy: 1.0000 - val_loss: 0.3998 - val_accuracy: 0.9286\n",
      "Epoch 296/300\n",
      "11/11 [==============================] - 0s 2ms/step - loss: 0.0301 - accuracy: 0.9940 - val_loss: 0.4010 - val_accuracy: 0.9405\n",
      "Epoch 297/300\n",
      "11/11 [==============================] - 0s 2ms/step - loss: 0.0077 - accuracy: 0.9970 - val_loss: 0.4048 - val_accuracy: 0.9286\n",
      "Epoch 298/300\n",
      "11/11 [==============================] - 0s 2ms/step - loss: 0.0112 - accuracy: 0.9940 - val_loss: 0.3922 - val_accuracy: 0.9405\n",
      "Epoch 299/300\n",
      "11/11 [==============================] - 0s 2ms/step - loss: 0.0396 - accuracy: 0.9821 - val_loss: 0.3989 - val_accuracy: 0.9286\n",
      "Epoch 300/300\n",
      "11/11 [==============================] - 0s 2ms/step - loss: 0.0676 - accuracy: 0.9821 - val_loss: 0.5133 - val_accuracy: 0.9286\n"
     ]
    }
   ],
   "source": [
    "EPOCHS = 300\n",
    "history = model.fit(train_data, train_labels, epochs=EPOCHS, validation_data=(test_data, test_labels))"
   ]
  },
  {
   "cell_type": "code",
   "execution_count": 67,
   "id": "f5c3fb14-af0f-4f5c-9ca1-933ae7a04583",
   "metadata": {},
   "outputs": [
    {
     "name": "stdout",
     "output_type": "stream",
     "text": [
      "dict_keys(['loss', 'accuracy', 'val_loss', 'val_accuracy'])\n"
     ]
    },
    {
     "data": {
      "image/png": "[encoded data removed]",
      "text/plain": [
       "<Figure size 640x480 with 1 Axes>"
      ]
     },
     "metadata": {},
     "output_type": "display_data"
    },
    {
     "data": {
      "image/png": "[encoded data removed]",
      "text/plain": [
       "<Figure size 640x480 with 1 Axes>"
      ]
     },
     "metadata": {},
     "output_type": "display_data"
    }
   ],
   "source": [
    "print(history.history.keys())\n",
    "\n",
    "# Plot training & validation accuracy values\n",
    "plt.plot(history.history['accuracy'])\n",
    "plt.plot(history.history['val_accuracy'])\n",
    "\n",
    "plt.title('Model accuracy')\n",
    "plt.ylabel('Accuracy')\n",
    "plt.xlabel('Epoch')\n",
    "plt.legend(['Train', 'Test'], loc='upper left')\n",
    "plt.show()\n",
    "\n",
    "# Plot training & validation loss values\n",
    "plt.plot(history.history['loss'])\n",
    "plt.plot(history.history['val_loss'])\n",
    "plt.title('Model loss')\n",
    "plt.ylabel('Loss')\n",
    "plt.xlabel('Epoch')\n",
    "plt.legend(['Train', 'Test'], loc='upper left')\n",
    "plt.show()"
   ]
  },
  {
   "cell_type": "markdown",
   "id": "e0bf0394-ddb1-483a-b637-66234a937fa0",
   "metadata": {},
   "source": [
    "## Save the model"
   ]
  },
  {
   "cell_type": "code",
   "execution_count": 57,
   "id": "a2118aa9-2aba-40a9-979b-cb7f5b3f6286",
   "metadata": {},
   "outputs": [],
   "source": [
    "import datetime\n",
    "\n",
    "dt = datetime.datetime.today().strftime('%Y%m%d%H%M%S')\n",
    "filename = 'rock_paper_scissors_dct_{}.h5'.format(dt)\n",
    "model.save(filename)"
   ]
  },
  {
   "cell_type": "markdown",
   "id": "7a0ab4bc-602d-472f-a937-d4298720cf24",
   "metadata": {},
   "source": [
    "## load the model"
   ]
  },
  {
   "cell_type": "code",
   "execution_count": 27,
   "id": "6d87223e-7931-4723-8c6c-b6dfce0cd6d3",
   "metadata": {},
   "outputs": [],
   "source": [
    "del model\n",
    "model = models.load_model(filename)"
   ]
  },
  {
   "cell_type": "markdown",
   "id": "3bb7283a-716d-451a-ad74-ef614b7a0332",
   "metadata": {},
   "source": [
    "## Confirmation"
   ]
  },
  {
   "cell_type": "code",
   "execution_count": 28,
   "id": "876bf64c-a0e3-43cb-b89d-3f6f5985dd47",
   "metadata": {},
   "outputs": [
    {
     "data": {
      "text/plain": [
       "(336, 20)"
      ]
     },
     "execution_count": 28,
     "metadata": {},
     "output_type": "execute_result"
    }
   ],
   "source": [
    "import numpy as np\n",
    "import matplotlib.pyplot as plt\n",
    "train_data.shape"
   ]
  },
  {
   "cell_type": "code",
   "execution_count": 29,
   "id": "c138da65-762d-4151-a488-1f0536c26275",
   "metadata": {},
   "outputs": [],
   "source": [
    "layer_outputs = [layer.output for layer in model.layers]"
   ]
  },
  {
   "cell_type": "code",
   "execution_count": 30,
   "id": "a9369e1a-bb05-4302-bbcc-5b865fe34a08",
   "metadata": {},
   "outputs": [
    {
     "name": "stdout",
     "output_type": "stream",
     "text": [
      "3/3 [==============================] - 0s 4ms/step\n"
     ]
    }
   ],
   "source": [
    "activation_model = models.Model(inputs=model.input, outputs=layer_outputs)\n",
    "activations = activation_model.predict(test_data)"
   ]
  },
  {
   "cell_type": "code",
   "execution_count": 31,
   "id": "a19bd833-9f38-43fa-92f1-77c399e6c1be",
   "metadata": {},
   "outputs": [
    {
     "data": {
      "text/plain": [
       "['paper', 'rock', 'scissors']"
      ]
     },
     "execution_count": 31,
     "metadata": {},
     "output_type": "execute_result"
    }
   ],
   "source": [
    "class_labels"
   ]
  },
  {
   "cell_type": "code",
   "execution_count": 32,
   "id": "d2f7ff27-bccd-454c-ad2d-f73e4310f400",
   "metadata": {},
   "outputs": [
    {
     "data": {
      "text/plain": [
       "array([[ 98,   0,   0],\n",
       "       [ 93,   2,   3],\n",
       "       [  4,   7,  88],\n",
       "       [ 96,   2,   1],\n",
       "       [  0, 100,   0],\n",
       "       [ 47,  52,   0],\n",
       "       [  0,   1,  98],\n",
       "       [  0,  99,   0],\n",
       "       [  3,   3,  92],\n",
       "       [  1,   8,  90]])"
      ]
     },
     "execution_count": 32,
     "metadata": {},
     "output_type": "execute_result"
    }
   ],
   "source": [
    "(activations[-1][:10]*100).astype(int)"
   ]
  },
  {
   "cell_type": "code",
   "execution_count": 33,
   "id": "91ed5021-3bd8-45ab-90d3-a9006c245546",
   "metadata": {},
   "outputs": [
    {
     "data": {
      "text/plain": [
       "array([[1, 0, 0],\n",
       "       [1, 0, 0],\n",
       "       [0, 0, 1],\n",
       "       [1, 0, 0],\n",
       "       [0, 1, 0],\n",
       "       [0, 0, 1],\n",
       "       [0, 0, 1],\n",
       "       [0, 1, 0],\n",
       "       [0, 0, 1],\n",
       "       [0, 0, 1]])"
      ]
     },
     "execution_count": 33,
     "metadata": {},
     "output_type": "execute_result"
    }
   ],
   "source": [
    "test_labels[:10].astype(int)"
   ]
  },
  {
   "cell_type": "code",
   "execution_count": null,
   "id": "41d54d93-b4db-47a9-81f1-5e97b6a45ab4",
   "metadata": {},
   "outputs": [],
   "source": []
  }
 ],
 "metadata": {
  "kernelspec": {
   "display_name": "Python 3 (ipykernel)",
   "language": "python",
   "name": "python3"
  },
  "language_info": {
   "codemirror_mode": {
    "name": "ipython",
    "version": 3
   },
   "file_extension": ".py",
   "mimetype": "text/x-python",
   "name": "python",
   "nbconvert_exporter": "python",
   "pygments_lexer": "ipython3",
   "version": "3.11.4"
  }
 },
 "nbformat": 4,
 "nbformat_minor": 5
}
