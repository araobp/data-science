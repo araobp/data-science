{
 "cells": [
  {
   "cell_type": "markdown",
   "id": "e547af3b-0c7a-4cd8-8400-6088e00cd730",
   "metadata": {},
   "source": [
    "# Digital Audio Processing 1"
   ]
  },
  {
   "cell_type": "code",
   "execution_count": null,
   "id": "64e95dc7-a582-4317-9cc7-6afd6bfd0c40",
   "metadata": {},
   "outputs": [],
   "source": []
  }
 ],
 "metadata": {
  "kernelspec": {
   "display_name": "Python 3 (ipykernel)",
   "language": "python",
   "name": "python3"
  },
  "language_info": {
   "codemirror_mode": {
    "name": "ipython",
    "version": 3
   },
   "file_extension": ".py",
   "mimetype": "text/x-python",
   "name": "python",
   "nbconvert_exporter": "python",
   "pygments_lexer": "ipython3",
   "version": "3.11.4"
  }
 },
 "nbformat": 4,
 "nbformat_minor": 5
}
