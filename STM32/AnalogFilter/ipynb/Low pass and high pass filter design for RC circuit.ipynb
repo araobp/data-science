{
 "cells": [
  {
   "cell_type": "markdown",
   "metadata": {},
   "source": [
    "# Low pass and high pass filter design for RC circuit\n",
    "\n",
    "```\n",
    "              LPF                            HPF\n",
    "\n",
    "Vin ----[R]----+---- Vout ----> Vin ----||----+\n",
    "DAC            |                         C    |\n",
    "              ---C                           [R] Headphone\n",
    "              ---                             |\n",
    "               |                              |\n",
    "              GND                            GND\n",
    "```"
   ]
  },
  {
   "cell_type": "markdown",
   "metadata": {},
   "source": [
    "$$ X_c = \\frac{1}{2 \\pi C R} $$\n",
    "\n",
    "$$ C = \\frac{1}{2 \\pi X_c R} $$"
   ]
  },
  {
   "cell_type": "code",
   "execution_count": 1,
   "metadata": {},
   "outputs": [],
   "source": [
    "import numpy as np\n",
    "\n",
    "Ra = 18  # 18 Ohm\n",
    "Rb = 32  # 32 Ohm\n",
    "CUTOFF_HPF = 40  # 40Hz\n",
    "CUTOFF_LPF = 13000  # 13kHz\n",
    "\n",
    "# Capacitance in uF\n",
    "def calc_capacitance(cutoff_freq, R):\n",
    "    return 1.0 / (2 * np.pi * cutoff_freq * R) * 1000_000"
   ]
  },
  {
   "cell_type": "code",
   "execution_count": 2,
   "metadata": {},
   "outputs": [
    {
     "name": "stdout",
     "output_type": "stream",
     "text": [
      "Capacitance: 221.0 uF\n"
     ]
    }
   ],
   "source": [
    "# HPF, headphone R = 18 ohm\n",
    "c = calc_capacitance(CUTOFF_HPF, Ra)\n",
    "print('Capacitance: {:.1f} uF'.format(c))"
   ]
  },
  {
   "cell_type": "code",
   "execution_count": 3,
   "metadata": {},
   "outputs": [
    {
     "name": "stdout",
     "output_type": "stream",
     "text": [
      "Capacitance: 124.3 uF\n"
     ]
    }
   ],
   "source": [
    "# HPF, headphone R = 32 ohm\n",
    "c = calc_capacitance(CUTOFF_HPF, Rb)\n",
    "print('Capacitance: {:.1f} uF'.format(c))"
   ]
  },
  {
   "cell_type": "code",
   "execution_count": 4,
   "metadata": {},
   "outputs": [
    {
     "name": "stdout",
     "output_type": "stream",
     "text": [
      "Capacitance: 0.1 uF\n"
     ]
    }
   ],
   "source": [
    "# LPF, R = 120 ohm\n",
    "c = calc_capacitance(CUTOFF_LPF, 120)\n",
    "print('Capacitance: {:.1f} uF'.format(c))"
   ]
  },
  {
   "cell_type": "code",
   "execution_count": null,
   "metadata": {},
   "outputs": [],
   "source": []
  }
 ],
 "metadata": {
  "kernelspec": {
   "display_name": "Python 3 (ipykernel)",
   "language": "python",
   "name": "python3"
  },
  "language_info": {
   "codemirror_mode": {
    "name": "ipython",
    "version": 3
   },
   "file_extension": ".py",
   "mimetype": "text/x-python",
   "name": "python",
   "nbconvert_exporter": "python",
   "pygments_lexer": "ipython3",
   "version": "3.11.4"
  }
 },
 "nbformat": 4,
 "nbformat_minor": 4
}
