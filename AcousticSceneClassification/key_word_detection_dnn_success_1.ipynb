{
 "cells": [
  {
   "cell_type": "markdown",
   "metadata": {
    "colab_type": "text",
    "id": "WwQ-dEltkl5Q"
   },
   "source": [
    "# DNN for key word detection"
   ]
  },
  {
   "cell_type": "code",
   "execution_count": 28,
   "metadata": {
    "colab": {
     "base_uri": "https://localhost:8080/",
     "height": 34
    },
    "colab_type": "code",
    "id": "VEJyQsGpV3ug",
    "outputId": "3929aa39-3383-4791-e065-3622e6781181"
   },
   "outputs": [
    {
     "data": {
      "text/plain": [
       "['umai',\n",
       " 'mazui',\n",
       " 'oishii',\n",
       " 'silence',\n",
       " 'others',\n",
       " 'a',\n",
       " 'i',\n",
       " 'o',\n",
       " 'sushi',\n",
       " 'sashimi',\n",
       " 'gyouza',\n",
       " 'hashi',\n",
       " 'spoon',\n",
       " 'fork',\n",
       " 'syouyu',\n",
       " 'sakana',\n",
       " 'niku',\n",
       " 'gohan']"
      ]
     },
     "execution_count": 28,
     "metadata": {},
     "output_type": "execute_result"
    },
    {
     "data": {
      "text/plain": [
       "<matplotlib.figure.Figure at 0x1d40dbf3550>"
      ]
     },
     "metadata": {},
     "output_type": "display_data"
    }
   ],
   "source": [
    "DATASET_FOLDER = '../dataset/data_restaurant'\n",
    "\n",
    "%run ../oscilloscope/script/dataset.py\n",
    "\n",
    "ds = DataSet(DATASET_FOLDER)\n",
    "train_data, train_labels, test_data, test_labels = ds.generate(update=False, flatten=True)['mfcc']\n",
    "ds.class_labels"
   ]
  },
  {
   "cell_type": "code",
   "execution_count": 29,
   "metadata": {},
   "outputs": [
    {
     "data": {
      "text/plain": [
       "((1260, 960), (540, 960))"
      ]
     },
     "execution_count": 29,
     "metadata": {},
     "output_type": "execute_result"
    },
    {
     "data": {
      "image/png": "[encoded data removed]",
      "text/plain": [
       "<matplotlib.figure.Figure at 0x1d40daf4588>"
      ]
     },
     "metadata": {},
     "output_type": "display_data"
    }
   ],
   "source": [
    "import matplotlib.pyplot as plt\n",
    "%matplotlib inline\n",
    "\n",
    "plt.imshow(np.rot90(train_data[0].reshape(ds.shape)), cmap='seismic')\n",
    "train_data.shape, test_data.shape"
   ]
  },
  {
   "cell_type": "markdown",
   "metadata": {
    "colab_type": "text",
    "id": "VfUmgxxVk6uM"
   },
   "source": [
    "### DNN model"
   ]
  },
  {
   "cell_type": "code",
   "execution_count": 30,
   "metadata": {
    "colab": {
     "base_uri": "https://localhost:8080/",
     "height": 509
    },
    "colab_type": "code",
    "id": "B2Xg6tGLdMKP",
    "outputId": "ae3daa32-9dbf-4d8b-9a11-7f596dd2e4a6"
   },
   "outputs": [
    {
     "name": "stdout",
     "output_type": "stream",
     "text": [
      "_________________________________________________________________\n",
      "Layer (type)                 Output Shape              Param #   \n",
      "=================================================================\n",
      "dense_19 (Dense)             (None, 128)               123008    \n",
      "_________________________________________________________________\n",
      "dropout_13 (Dropout)         (None, 128)               0         \n",
      "_________________________________________________________________\n",
      "dense_20 (Dense)             (None, 128)               16512     \n",
      "_________________________________________________________________\n",
      "dropout_14 (Dropout)         (None, 128)               0         \n",
      "_________________________________________________________________\n",
      "dense_21 (Dense)             (None, 18)                2322      \n",
      "=================================================================\n",
      "Total params: 141,842\n",
      "Trainable params: 141,842\n",
      "Non-trainable params: 0\n",
      "_________________________________________________________________\n"
     ]
    }
   ],
   "source": [
    "from keras import layers\n",
    "from keras import models\n",
    "\n",
    "model = models.Sequential()\n",
    "\n",
    "model.add(layers.Dense(128, input_dim=ds.shape[0]*ds.shape[1], activation='relu'))\n",
    "model.add(layers.Dropout(0.25))\n",
    "model.add(layers.Dense(128, activation='relu'))\n",
    "model.add(layers.Dropout(0.25))\n",
    "model.add(layers.Dense(len(class_labels), activation='softmax'))\n",
    "\n",
    "model.summary()"
   ]
  },
  {
   "cell_type": "code",
   "execution_count": 31,
   "metadata": {
    "colab": {},
    "colab_type": "code",
    "id": "nRr1L_4ogL6i"
   },
   "outputs": [],
   "source": [
    "model.compile(optimizer='rmsprop', loss='categorical_crossentropy', metrics=['accuracy'])"
   ]
  },
  {
   "cell_type": "markdown",
   "metadata": {
    "colab_type": "text",
    "id": "TfypWUJIlFkz"
   },
   "source": [
    "## Training DNN"
   ]
  },
  {
   "cell_type": "code",
   "execution_count": 32,
   "metadata": {
    "colab": {
     "base_uri": "https://localhost:8080/",
     "height": 931
    },
    "colab_type": "code",
    "id": "zsdmu-ggfvr1",
    "outputId": "77a52558-8ecc-4fc5-e0cb-2b86a75df4c6",
    "scrolled": false
   },
   "outputs": [
    {
     "name": "stdout",
     "output_type": "stream",
     "text": [
      "Train on 1260 samples, validate on 540 samples\n",
      "Epoch 1/80\n",
      "1260/1260 [==============================] - 1s 704us/step - loss: 2.4012 - acc: 0.3143 - val_loss: 1.1936 - val_acc: 0.7704\n",
      "Epoch 2/80\n",
      "1260/1260 [==============================] - 0s 168us/step - loss: 1.0753 - acc: 0.6905 - val_loss: 0.5198 - val_acc: 0.8759\n",
      "Epoch 3/80\n",
      "1260/1260 [==============================] - 0s 167us/step - loss: 0.5813 - acc: 0.8294 - val_loss: 0.3393 - val_acc: 0.9222\n",
      "Epoch 4/80\n",
      "1260/1260 [==============================] - 0s 146us/step - loss: 0.3282 - acc: 0.8984 - val_loss: 0.2831 - val_acc: 0.9185\n",
      "Epoch 5/80\n",
      "1260/1260 [==============================] - 0s 113us/step - loss: 0.2295 - acc: 0.9373 - val_loss: 0.1892 - val_acc: 0.9500\n",
      "Epoch 6/80\n",
      "1260/1260 [==============================] - 0s 113us/step - loss: 0.1634 - acc: 0.9484 - val_loss: 0.1847 - val_acc: 0.9537\n",
      "Epoch 7/80\n",
      "1260/1260 [==============================] - 0s 158us/step - loss: 0.1238 - acc: 0.9595 - val_loss: 0.1774 - val_acc: 0.9556\n",
      "Epoch 8/80\n",
      "1260/1260 [==============================] - 0s 164us/step - loss: 0.0917 - acc: 0.9730 - val_loss: 0.1620 - val_acc: 0.9556\n",
      "Epoch 9/80\n",
      "1260/1260 [==============================] - 0s 175us/step - loss: 0.0703 - acc: 0.9778 - val_loss: 0.1783 - val_acc: 0.9500\n",
      "Epoch 10/80\n",
      "1260/1260 [==============================] - 0s 116us/step - loss: 0.0649 - acc: 0.9794 - val_loss: 0.1607 - val_acc: 0.9611\n",
      "Epoch 11/80\n",
      "1260/1260 [==============================] - 0s 114us/step - loss: 0.0433 - acc: 0.9881 - val_loss: 0.1887 - val_acc: 0.9556\n",
      "Epoch 12/80\n",
      "1260/1260 [==============================] - 0s 137us/step - loss: 0.0616 - acc: 0.9857 - val_loss: 0.1529 - val_acc: 0.9648\n",
      "Epoch 13/80\n",
      "1260/1260 [==============================] - 0s 191us/step - loss: 0.0409 - acc: 0.9865 - val_loss: 0.1343 - val_acc: 0.9630\n",
      "Epoch 14/80\n",
      "1260/1260 [==============================] - 0s 206us/step - loss: 0.0318 - acc: 0.9889 - val_loss: 0.1451 - val_acc: 0.9685\n",
      "Epoch 15/80\n",
      "1260/1260 [==============================] - 0s 137us/step - loss: 0.0368 - acc: 0.9881 - val_loss: 0.1308 - val_acc: 0.9685\n",
      "Epoch 16/80\n",
      "1260/1260 [==============================] - 0s 117us/step - loss: 0.0361 - acc: 0.9889 - val_loss: 0.1475 - val_acc: 0.9667\n",
      "Epoch 17/80\n",
      "1260/1260 [==============================] - 0s 152us/step - loss: 0.0197 - acc: 0.9937 - val_loss: 0.1877 - val_acc: 0.9611\n",
      "Epoch 18/80\n",
      "1260/1260 [==============================] - 0s 227us/step - loss: 0.0250 - acc: 0.9913 - val_loss: 0.2132 - val_acc: 0.9556\n",
      "Epoch 19/80\n",
      "1260/1260 [==============================] - 0s 165us/step - loss: 0.0266 - acc: 0.9889 - val_loss: 0.1982 - val_acc: 0.9574\n",
      "Epoch 20/80\n",
      "1260/1260 [==============================] - 0s 159us/step - loss: 0.0150 - acc: 0.9952 - val_loss: 0.1575 - val_acc: 0.9704\n",
      "Epoch 21/80\n",
      "1260/1260 [==============================] - 0s 167us/step - loss: 0.0207 - acc: 0.9944 - val_loss: 0.2112 - val_acc: 0.9648\n",
      "Epoch 22/80\n",
      "1260/1260 [==============================] - 0s 213us/step - loss: 0.0228 - acc: 0.9944 - val_loss: 0.1842 - val_acc: 0.9611\n",
      "Epoch 23/80\n",
      "1260/1260 [==============================] - 0s 189us/step - loss: 0.0220 - acc: 0.9921 - val_loss: 0.1813 - val_acc: 0.9667\n",
      "Epoch 24/80\n",
      "1260/1260 [==============================] - 0s 166us/step - loss: 0.0267 - acc: 0.9921 - val_loss: 0.1644 - val_acc: 0.9648\n",
      "Epoch 25/80\n",
      "1260/1260 [==============================] - 0s 166us/step - loss: 0.0127 - acc: 0.9960 - val_loss: 0.1975 - val_acc: 0.9704\n",
      "Epoch 26/80\n",
      "1260/1260 [==============================] - 0s 163us/step - loss: 0.0117 - acc: 0.9968 - val_loss: 0.2017 - val_acc: 0.9537\n",
      "Epoch 27/80\n",
      "1260/1260 [==============================] - 0s 159us/step - loss: 0.0138 - acc: 0.9944 - val_loss: 0.2052 - val_acc: 0.9667\n",
      "Epoch 28/80\n",
      "1260/1260 [==============================] - 0s 163us/step - loss: 0.0340 - acc: 0.9881 - val_loss: 0.2126 - val_acc: 0.9611\n",
      "Epoch 29/80\n",
      "1260/1260 [==============================] - 0s 156us/step - loss: 0.0131 - acc: 0.9952 - val_loss: 0.1619 - val_acc: 0.9741\n",
      "Epoch 30/80\n",
      "1260/1260 [==============================] - 0s 166us/step - loss: 0.0228 - acc: 0.9913 - val_loss: 0.1517 - val_acc: 0.9685\n",
      "Epoch 31/80\n",
      "1260/1260 [==============================] - 0s 187us/step - loss: 0.0309 - acc: 0.9905 - val_loss: 0.1659 - val_acc: 0.9759\n",
      "Epoch 32/80\n",
      "1260/1260 [==============================] - 0s 188us/step - loss: 0.0117 - acc: 0.9952 - val_loss: 0.1900 - val_acc: 0.9722\n",
      "Epoch 33/80\n",
      "1260/1260 [==============================] - 0s 161us/step - loss: 0.0066 - acc: 0.9976 - val_loss: 0.1905 - val_acc: 0.9704\n",
      "Epoch 34/80\n",
      "1260/1260 [==============================] - 0s 166us/step - loss: 0.0167 - acc: 0.9929 - val_loss: 0.2148 - val_acc: 0.9648\n",
      "Epoch 35/80\n",
      "1260/1260 [==============================] - 0s 157us/step - loss: 0.0231 - acc: 0.9921 - val_loss: 0.2090 - val_acc: 0.9667\n",
      "Epoch 36/80\n",
      "1260/1260 [==============================] - 0s 147us/step - loss: 0.0157 - acc: 0.9929 - val_loss: 0.1956 - val_acc: 0.9648\n",
      "Epoch 37/80\n",
      "1260/1260 [==============================] - 0s 202us/step - loss: 0.0144 - acc: 0.9960 - val_loss: 0.1614 - val_acc: 0.9778\n",
      "Epoch 38/80\n",
      "1260/1260 [==============================] - 0s 201us/step - loss: 0.0041 - acc: 0.9984 - val_loss: 0.2157 - val_acc: 0.9648\n",
      "Epoch 39/80\n",
      "1260/1260 [==============================] - 0s 181us/step - loss: 0.0143 - acc: 0.9937 - val_loss: 0.2193 - val_acc: 0.9667\n",
      "Epoch 40/80\n",
      "1260/1260 [==============================] - 0s 151us/step - loss: 0.0049 - acc: 0.9976 - val_loss: 0.2379 - val_acc: 0.9685\n",
      "Epoch 41/80\n",
      "1260/1260 [==============================] - 0s 152us/step - loss: 0.0090 - acc: 0.9960 - val_loss: 0.2275 - val_acc: 0.9630\n",
      "Epoch 42/80\n",
      "1260/1260 [==============================] - 0s 157us/step - loss: 0.0211 - acc: 0.9937 - val_loss: 0.1950 - val_acc: 0.9722\n",
      "Epoch 43/80\n",
      "1260/1260 [==============================] - 0s 152us/step - loss: 0.0139 - acc: 0.9937 - val_loss: 0.3215 - val_acc: 0.9556\n",
      "Epoch 44/80\n",
      "1260/1260 [==============================] - 0s 150us/step - loss: 0.0091 - acc: 0.9968 - val_loss: 0.1816 - val_acc: 0.9611\n",
      "Epoch 45/80\n",
      "1260/1260 [==============================] - 0s 156us/step - loss: 0.0151 - acc: 0.9960 - val_loss: 0.1911 - val_acc: 0.9630\n",
      "Epoch 46/80\n",
      "1260/1260 [==============================] - 0s 151us/step - loss: 0.0161 - acc: 0.9944 - val_loss: 0.1968 - val_acc: 0.9741\n",
      "Epoch 47/80\n",
      "1260/1260 [==============================] - 0s 155us/step - loss: 0.0101 - acc: 0.9960 - val_loss: 0.2094 - val_acc: 0.9667\n",
      "Epoch 48/80\n",
      "1260/1260 [==============================] - 0s 156us/step - loss: 0.0054 - acc: 0.9984 - val_loss: 0.2266 - val_acc: 0.9685\n",
      "Epoch 49/80\n",
      "1260/1260 [==============================] - 0s 162us/step - loss: 0.0064 - acc: 0.9984 - val_loss: 0.2067 - val_acc: 0.9704\n",
      "Epoch 50/80\n",
      "1260/1260 [==============================] - 0s 149us/step - loss: 0.0088 - acc: 0.9960 - val_loss: 0.2586 - val_acc: 0.9648\n",
      "Epoch 51/80\n",
      "1260/1260 [==============================] - 0s 184us/step - loss: 0.0072 - acc: 0.9976 - val_loss: 0.2518 - val_acc: 0.9685\n",
      "Epoch 52/80\n",
      "1260/1260 [==============================] - 0s 197us/step - loss: 0.0117 - acc: 0.9968 - val_loss: 0.2110 - val_acc: 0.9722\n",
      "Epoch 53/80\n",
      "1260/1260 [==============================] - 0s 189us/step - loss: 0.0022 - acc: 0.9992 - val_loss: 0.2028 - val_acc: 0.9667\n",
      "Epoch 54/80\n",
      "1260/1260 [==============================] - 0s 154us/step - loss: 0.0060 - acc: 0.9976 - val_loss: 0.2671 - val_acc: 0.9630\n",
      "Epoch 55/80\n",
      "1260/1260 [==============================] - 0s 149us/step - loss: 0.0129 - acc: 0.9968 - val_loss: 0.1853 - val_acc: 0.9722\n",
      "Epoch 56/80\n",
      "1260/1260 [==============================] - 0s 146us/step - loss: 0.0117 - acc: 0.9968 - val_loss: 0.1915 - val_acc: 0.9778\n",
      "Epoch 57/80\n",
      "1260/1260 [==============================] - 0s 153us/step - loss: 0.0029 - acc: 0.9984 - val_loss: 0.2434 - val_acc: 0.9630\n",
      "Epoch 58/80\n",
      "1260/1260 [==============================] - 0s 151us/step - loss: 0.0093 - acc: 0.9968 - val_loss: 0.1850 - val_acc: 0.9685\n",
      "Epoch 59/80\n",
      "1260/1260 [==============================] - 0s 151us/step - loss: 0.0178 - acc: 0.9944 - val_loss: 0.2746 - val_acc: 0.9630\n",
      "Epoch 60/80\n"
     ]
    },
    {
     "name": "stdout",
     "output_type": "stream",
     "text": [
      "1260/1260 [==============================] - 0s 167us/step - loss: 0.0065 - acc: 0.9968 - val_loss: 0.2393 - val_acc: 0.9667\n",
      "Epoch 61/80\n",
      "1260/1260 [==============================] - 0s 217us/step - loss: 0.0068 - acc: 0.9976 - val_loss: 0.2039 - val_acc: 0.9704\n",
      "Epoch 62/80\n",
      "1260/1260 [==============================] - 0s 219us/step - loss: 0.0103 - acc: 0.9968 - val_loss: 0.2222 - val_acc: 0.9704\n",
      "Epoch 63/80\n",
      "1260/1260 [==============================] - 0s 202us/step - loss: 0.0095 - acc: 0.9960 - val_loss: 0.2708 - val_acc: 0.9667\n",
      "Epoch 64/80\n",
      "1260/1260 [==============================] - 0s 168us/step - loss: 0.0149 - acc: 0.9944 - val_loss: 0.2552 - val_acc: 0.9667\n",
      "Epoch 65/80\n",
      "1260/1260 [==============================] - 0s 166us/step - loss: 0.0055 - acc: 0.9992 - val_loss: 0.2302 - val_acc: 0.9648\n",
      "Epoch 66/80\n",
      "1260/1260 [==============================] - 0s 167us/step - loss: 0.0085 - acc: 0.9984 - val_loss: 0.2101 - val_acc: 0.9667\n",
      "Epoch 67/80\n",
      "1260/1260 [==============================] - 0s 165us/step - loss: 0.0190 - acc: 0.9984 - val_loss: 0.3241 - val_acc: 0.9648\n",
      "Epoch 68/80\n",
      "1260/1260 [==============================] - 0s 171us/step - loss: 0.0139 - acc: 0.9944 - val_loss: 0.2354 - val_acc: 0.9685\n",
      "Epoch 69/80\n",
      "1260/1260 [==============================] - 0s 160us/step - loss: 0.0184 - acc: 0.9952 - val_loss: 0.1974 - val_acc: 0.9722\n",
      "Epoch 70/80\n",
      "1260/1260 [==============================] - 0s 168us/step - loss: 0.0081 - acc: 0.9976 - val_loss: 0.2474 - val_acc: 0.9648\n",
      "Epoch 71/80\n",
      "1260/1260 [==============================] - 0s 168us/step - loss: 0.0029 - acc: 0.9992 - val_loss: 0.2280 - val_acc: 0.9722\n",
      "Epoch 72/80\n",
      "1260/1260 [==============================] - 0s 166us/step - loss: 0.0070 - acc: 0.9992 - val_loss: 0.3453 - val_acc: 0.9537\n",
      "Epoch 73/80\n",
      "1260/1260 [==============================] - 0s 180us/step - loss: 0.0045 - acc: 0.9984 - val_loss: 0.2239 - val_acc: 0.9741\n",
      "Epoch 74/80\n",
      "1260/1260 [==============================] - 0s 215us/step - loss: 0.0098 - acc: 0.9960 - val_loss: 0.2435 - val_acc: 0.9648\n",
      "Epoch 75/80\n",
      "1260/1260 [==============================] - 0s 215us/step - loss: 0.0054 - acc: 0.9976 - val_loss: 0.2331 - val_acc: 0.9667\n",
      "Epoch 76/80\n",
      "1260/1260 [==============================] - 0s 193us/step - loss: 0.0098 - acc: 0.9960 - val_loss: 0.2743 - val_acc: 0.9630\n",
      "Epoch 77/80\n",
      "1260/1260 [==============================] - 0s 162us/step - loss: 0.0048 - acc: 0.9992 - val_loss: 0.2085 - val_acc: 0.9704\n",
      "Epoch 78/80\n",
      "1260/1260 [==============================] - 0s 169us/step - loss: 0.0039 - acc: 0.9984 - val_loss: 0.2883 - val_acc: 0.9574\n",
      "Epoch 79/80\n",
      "1260/1260 [==============================] - 0s 171us/step - loss: 0.0043 - acc: 0.9984 - val_loss: 0.2429 - val_acc: 0.9685\n",
      "Epoch 80/80\n",
      "1260/1260 [==============================] - 0s 159us/step - loss: 0.0147 - acc: 0.9968 - val_loss: 0.2555 - val_acc: 0.9685\n"
     ]
    }
   ],
   "source": [
    "EPOCHS = 80\n",
    "history = model.fit(train_data, train_labels, epochs=EPOCHS, validation_data=(test_data, test_labels))"
   ]
  },
  {
   "cell_type": "code",
   "execution_count": 34,
   "metadata": {},
   "outputs": [
    {
     "data": {
      "image/png": "[encoded data removed]",
      "text/plain": [
       "<matplotlib.figure.Figure at 0x1d410a54ac8>"
      ]
     },
     "metadata": {},
     "output_type": "display_data"
    },
    {
     "data": {
      "image/png": "[encoded data removed]",
      "text/plain": [
       "<matplotlib.figure.Figure at 0x1d410a547f0>"
      ]
     },
     "metadata": {},
     "output_type": "display_data"
    }
   ],
   "source": [
    "plot_accuracy(history)\n",
    "plot_loss(history)"
   ]
  },
  {
   "cell_type": "markdown",
   "metadata": {},
   "source": [
    "## Save the model"
   ]
  },
  {
   "cell_type": "code",
   "execution_count": 35,
   "metadata": {},
   "outputs": [],
   "source": [
    "import datetime\n",
    "\n",
    "dt = datetime.datetime.today().strftime('%Y%m%d%H%M%S')\n",
    "filename = DATASET_FOLDER + '/key_word_detection_dnn_{}.h5'.format(dt)\n",
    "model.save(filename)"
   ]
  },
  {
   "cell_type": "markdown",
   "metadata": {},
   "source": [
    "## Load the model"
   ]
  },
  {
   "cell_type": "code",
   "execution_count": 36,
   "metadata": {},
   "outputs": [],
   "source": [
    "del model\n",
    "model = models.load_model(filename)"
   ]
  },
  {
   "cell_type": "markdown",
   "metadata": {
    "colab_type": "text",
    "id": "j6con4C3lKC1"
   },
   "source": [
    "## Confirmation"
   ]
  },
  {
   "cell_type": "code",
   "execution_count": 37,
   "metadata": {
    "colab": {
     "base_uri": "https://localhost:8080/",
     "height": 34
    },
    "colab_type": "code",
    "id": "4oZYLLij69wU",
    "outputId": "b37a4b8a-2c80-411f-d8a9-5df1c6dbfe22"
   },
   "outputs": [],
   "source": [
    "import numpy as np\n",
    "import matplotlib.pyplot as plt"
   ]
  },
  {
   "cell_type": "code",
   "execution_count": 38,
   "metadata": {
    "colab": {
     "base_uri": "https://localhost:8080/",
     "height": 193
    },
    "colab_type": "code",
    "id": "zSxXE9FgRBdJ",
    "outputId": "f3a53efe-e99f-4572-f9b4-1bf3c39c77ec"
   },
   "outputs": [],
   "source": [
    "layer_outputs = [layer.output for layer in model.layers]\n",
    "#layer_outputs"
   ]
  },
  {
   "cell_type": "code",
   "execution_count": 39,
   "metadata": {
    "colab": {
     "base_uri": "https://localhost:8080/",
     "height": 34
    },
    "colab_type": "code",
    "id": "dcw7yHKrRkPD",
    "outputId": "a3ed5441-ae48-4635-bf07-ac5060030608"
   },
   "outputs": [],
   "source": [
    "activation_model = models.Model(inputs=model.input, outputs=layer_outputs)\n",
    "activations = activation_model.predict(test_data)\n",
    "#activations[0][0,:,:,0].shape"
   ]
  },
  {
   "cell_type": "code",
   "execution_count": 40,
   "metadata": {},
   "outputs": [
    {
     "data": {
      "text/plain": [
       "['umai',\n",
       " 'mazui',\n",
       " 'oishii',\n",
       " 'silence',\n",
       " 'others',\n",
       " 'a',\n",
       " 'i',\n",
       " 'o',\n",
       " 'sushi',\n",
       " 'sashimi',\n",
       " 'gyouza',\n",
       " 'hashi',\n",
       " 'spoon',\n",
       " 'fork',\n",
       " 'syouyu',\n",
       " 'sakana',\n",
       " 'niku',\n",
       " 'gohan']"
      ]
     },
     "execution_count": 40,
     "metadata": {},
     "output_type": "execute_result"
    }
   ],
   "source": [
    "class_labels"
   ]
  },
  {
   "cell_type": "code",
   "execution_count": 41,
   "metadata": {
    "colab": {
     "base_uri": "https://localhost:8080/",
     "height": 193
    },
    "colab_type": "code",
    "id": "ccSNAwGKhRn9",
    "outputId": "0ad22e12-713b-4b07-e17b-45d39ff1b80b"
   },
   "outputs": [
    {
     "data": {
      "text/plain": [
       "array([[  0,   0, 100,   0,   0,   0,   0,   0,   0,   0,   0,   0,   0,\n",
       "          0,   0,   0,   0,   0],\n",
       "       [  0,   0,   0,   0,   0,   0,   0,   0,   0,   0,   0,   0, 100,\n",
       "          0,   0,   0,   0,   0],\n",
       "       [  0,   0,   0,   0,   0,   0,   0,   0,   0,   0,   0,   0,   0,\n",
       "          0,   0,   0, 100,   0],\n",
       "       [  0, 100,   0,   0,   0,   0,   0,   0,   0,   0,   0,   0,   0,\n",
       "          0,   0,   0,   0,   0],\n",
       "       [  0,   0,   0,   0,   0, 100,   0,   0,   0,   0,   0,   0,   0,\n",
       "          0,   0,   0,   0,   0],\n",
       "       [  0,   0,   0,   0,   0,   0,   0,   0,   0,   0,   0,   0,   0,\n",
       "          0, 100,   0,   0,   0],\n",
       "       [  0,   0,   0,   0,   0,   0,   0,   0, 100,   0,   0,   0,   0,\n",
       "          0,   0,   0,   0,   0],\n",
       "       [  0,   0,   0,   0,   0,   0,   0,   0, 100,   0,   0,   0,   0,\n",
       "          0,   0,   0,   0,   0],\n",
       "       [  0,   0,   0,   0,   0,   0, 100,   0,   0,   0,   0,   0,   0,\n",
       "          0,   0,   0,   0,   0],\n",
       "       [  0,   0,   0,   0,   0,   0,   0,   0,   0,   0,   0,   0,   0,\n",
       "          0, 100,   0,   0,   0]])"
      ]
     },
     "execution_count": 41,
     "metadata": {},
     "output_type": "execute_result"
    }
   ],
   "source": [
    "(activations[-1][:10]*100).astype(int)"
   ]
  },
  {
   "cell_type": "code",
   "execution_count": 42,
   "metadata": {
    "colab": {
     "base_uri": "https://localhost:8080/",
     "height": 193
    },
    "colab_type": "code",
    "id": "RoE0nxtuiGIN",
    "outputId": "154437a8-ab72-46f4-f42c-3e6464af47d0"
   },
   "outputs": [
    {
     "data": {
      "text/plain": [
       "array([[0, 0, 1, 0, 0, 0, 0, 0, 0, 0, 0, 0, 0, 0, 0, 0, 0, 0],\n",
       "       [0, 0, 0, 0, 0, 0, 0, 0, 0, 0, 0, 0, 1, 0, 0, 0, 0, 0],\n",
       "       [0, 0, 0, 0, 0, 0, 0, 0, 0, 0, 0, 0, 0, 0, 0, 0, 1, 0],\n",
       "       [0, 1, 0, 0, 0, 0, 0, 0, 0, 0, 0, 0, 0, 0, 0, 0, 0, 0],\n",
       "       [0, 0, 0, 0, 0, 1, 0, 0, 0, 0, 0, 0, 0, 0, 0, 0, 0, 0],\n",
       "       [0, 0, 0, 0, 0, 0, 0, 0, 0, 0, 0, 0, 0, 0, 1, 0, 0, 0],\n",
       "       [0, 0, 0, 0, 0, 0, 0, 0, 1, 0, 0, 0, 0, 0, 0, 0, 0, 0],\n",
       "       [0, 0, 0, 0, 0, 0, 0, 0, 1, 0, 0, 0, 0, 0, 0, 0, 0, 0],\n",
       "       [0, 0, 0, 0, 0, 0, 1, 0, 0, 0, 0, 0, 0, 0, 0, 0, 0, 0],\n",
       "       [0, 0, 0, 0, 0, 0, 0, 0, 0, 0, 0, 0, 0, 0, 1, 0, 0, 0]])"
      ]
     },
     "execution_count": 42,
     "metadata": {},
     "output_type": "execute_result"
    }
   ],
   "source": [
    "test_labels[:10].astype(int)"
   ]
  },
  {
   "cell_type": "code",
   "execution_count": null,
   "metadata": {},
   "outputs": [],
   "source": []
  }
 ],
 "metadata": {
  "colab": {
   "collapsed_sections": [],
   "name": "CNN for AED",
   "provenance": [],
   "version": "0.3.2"
  },
  "kernelspec": {
   "display_name": "Python 3",
   "language": "python",
   "name": "python3"
  },
  "language_info": {
   "codemirror_mode": {
    "name": "ipython",
    "version": 3
   },
   "file_extension": ".py",
   "mimetype": "text/x-python",
   "name": "python",
   "nbconvert_exporter": "python",
   "pygments_lexer": "ipython3",
   "version": "3.6.4"
  }
 },
 "nbformat": 4,
 "nbformat_minor": 1
}
