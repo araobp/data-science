{
 "cells": [
  {
   "cell_type": "markdown",
   "id": "b012db42-0ec2-4386-aa7c-865acb9893f7",
   "metadata": {},
   "source": [
    "# Reuters\n",
    "\n",
    "Date: 2023/08/16"
   ]
  },
  {
   "cell_type": "code",
   "execution_count": 1,
   "id": "0ed47e14-983e-4486-85ad-4f8ba27cbf70",
   "metadata": {},
   "outputs": [],
   "source": [
    "import numpy as np\n",
    "import matplotlib.pyplot as plt\n",
    "%matplotlib inline\n",
    "\n",
    "from keras.datasets import reuters\n",
    "from keras import models\n",
    "from keras import layers\n",
    "from keras import optimizers\n",
    "from keras.utils import to_categorical"
   ]
  },
  {
   "cell_type": "markdown",
   "id": "c8911950-3df2-48ad-83e4-e1340aae3c32",
   "metadata": {},
   "source": [
    "## Categories"
   ]
  },
  {
   "cell_type": "code",
   "execution_count": 2,
   "id": "c8dfb896-5a06-488d-bdd9-177525101aaa",
   "metadata": {},
   "outputs": [
    {
     "data": {
      "text/plain": [
       "46"
      ]
     },
     "execution_count": 2,
     "metadata": {},
     "output_type": "execute_result"
    }
   ],
   "source": [
    "categories = ['cocoa','grain','veg-oil','earn','acq','wheat','copper','housing','money-supply',\n",
    "'coffee','sugar','trade','reserves','ship','cotton','carcass','crude','nat-gas',\n",
    "'cpi','money-fx','interest','gnp','meal-feed','alum','oilseed','gold','tin',\n",
    "'strategic-metal','livestock','retail','ipi','iron-steel','rubber','heat','jobs',\n",
    "'lei','bop','zinc','orange','pet-chem','dlr','gas','silver','wpi','hog','lead']\n",
    "\n",
    "len(categories)"
   ]
  },
  {
   "cell_type": "markdown",
   "id": "b3e332ab-27d5-4721-9114-f09ef3b3d395",
   "metadata": {},
   "source": [
    "## Preperation"
   ]
  },
  {
   "cell_type": "code",
   "execution_count": 3,
   "id": "54a17237-f665-49df-9d57-2545a74b8a86",
   "metadata": {},
   "outputs": [],
   "source": [
    "(train_data, train_labels), (test_data, test_labels) = reuters.load_data(num_words=10000)"
   ]
  },
  {
   "cell_type": "code",
   "execution_count": 4,
   "id": "871c145f-a3ee-4e63-916c-5443a181aac7",
   "metadata": {},
   "outputs": [
    {
     "data": {
      "text/plain": [
       "'len(train_data): 8982, len(test_data): 2246'"
      ]
     },
     "execution_count": 4,
     "metadata": {},
     "output_type": "execute_result"
    }
   ],
   "source": [
    "'len(train_data): {}, len(test_data): {}'.format(len(train_data), len(test_data))"
   ]
  },
  {
   "cell_type": "code",
   "execution_count": 5,
   "id": "2abc0750-abd4-4e7a-881b-c1c2a872f271",
   "metadata": {},
   "outputs": [
    {
     "data": {
      "text/plain": [
       "'data: [1, 2, 2, 8, 43, 10, 447, 5, 25, 207, 270, 5, 3095, 111, 16, 369, 186, 90, 67, 7, 89, 5, 19, 102, 6, 19, 124, 15, 90, 67, 84, 22, 482, 26, 7, 48, 4, 49, 8, 864, 39, 209, 154, 6, 151, 6, 83, 11, 15, 22, 155, 11, 15, 7, 48, 9, 4579, 1005, 504, 6, 258, 6, 272, 11, 15, 22, 134, 44, 11, 15, 16, 8, 197, 1245, 90, 67, 52, 29, 209, 30, 32, 132, 6, 109, 15, 17, 12], label: 3'"
      ]
     },
     "execution_count": 5,
     "metadata": {},
     "output_type": "execute_result"
    }
   ],
   "source": [
    "'data: {}, label: {}'.format(train_data[0], train_labels[0])"
   ]
  },
  {
   "cell_type": "code",
   "execution_count": 6,
   "id": "7c4b45a2-58ad-4eb7-9aa8-c36a6a83731f",
   "metadata": {},
   "outputs": [
    {
     "data": {
      "text/plain": [
       "'max number of index: 9999'"
      ]
     },
     "execution_count": 6,
     "metadata": {},
     "output_type": "execute_result"
    }
   ],
   "source": [
    "'max number of index: {}'.format(max([max(sequence) for sequence in train_data]))"
   ]
  },
  {
   "cell_type": "code",
   "execution_count": 7,
   "id": "b88842eb-e704-417e-9947-5bdcc981a40c",
   "metadata": {},
   "outputs": [],
   "source": [
    "word_index = reuters.get_word_index()"
   ]
  },
  {
   "cell_type": "code",
   "execution_count": 8,
   "id": "63d38072-7843-488b-9ff9-e32df8e4bbf6",
   "metadata": {},
   "outputs": [],
   "source": [
    "reverse_word_index = dict([(value, key) for (key, value) in word_index.items()])"
   ]
  },
  {
   "cell_type": "code",
   "execution_count": 9,
   "id": "8cb6d434-f8db-4a7a-9ad6-7f6b34d223a4",
   "metadata": {},
   "outputs": [
    {
     "data": {
      "text/plain": [
       "'authorities'"
      ]
     },
     "execution_count": 9,
     "metadata": {},
     "output_type": "execute_result"
    }
   ],
   "source": [
    "reverse_word_index.get(1234)"
   ]
  },
  {
   "cell_type": "code",
   "execution_count": 10,
   "id": "35fa94e9-c035-4596-b569-032fd54d63d5",
   "metadata": {},
   "outputs": [
    {
     "data": {
      "text/plain": [
       "'?'"
      ]
     },
     "execution_count": 10,
     "metadata": {},
     "output_type": "execute_result"
    }
   ],
   "source": [
    "reverse_word_index.get(111111, '?')"
   ]
  },
  {
   "cell_type": "code",
   "execution_count": 11,
   "id": "48819d1a-dce3-4662-9c94-0a371fee5b91",
   "metadata": {},
   "outputs": [
    {
     "data": {
      "text/plain": [
       "'? ? ? said as a result of its december acquisition of space co it expects earnings per share in 1987 of 1 15 to 1 30 dlrs per share up from 70 cts in 1986 the company said pretax net should rise to nine to 10 mln dlrs from six mln dlrs in 1986 and rental operation revenues to 19 to 22 mln dlrs from 12 5 mln dlrs it said cash flow per share this year should be 2 50 to three dlrs reuter 3'"
      ]
     },
     "execution_count": 11,
     "metadata": {},
     "output_type": "execute_result"
    }
   ],
   "source": [
    "def decode_newswire(data):\n",
    "    return ' '.join([reverse_word_index.get(i - 3, '?') for i in data])\n",
    "\n",
    "decode_newswire(train_data[0])"
   ]
  },
  {
   "cell_type": "code",
   "execution_count": 12,
   "id": "97947ef9-f2c5-459c-8bfc-14f10734e1dd",
   "metadata": {},
   "outputs": [],
   "source": [
    "def vectorize_sequences(sequences, dimension=10000):\n",
    "\n",
    "    results = np.zeros((len(sequences), dimension))\n",
    "    for i, sequence in enumerate(sequences):\n",
    "        results[i, sequence] = 1.\n",
    "    return results"
   ]
  },
  {
   "cell_type": "code",
   "execution_count": 13,
   "id": "6420fc6a-2269-433b-8faf-7ba3bb40a710",
   "metadata": {},
   "outputs": [],
   "source": [
    "x_train = vectorize_sequences(train_data)\n",
    "x_test = vectorize_sequences(test_data)"
   ]
  },
  {
   "cell_type": "code",
   "execution_count": 14,
   "id": "dbce1639-8407-424b-8711-91d6cd207655",
   "metadata": {},
   "outputs": [
    {
     "data": {
      "text/plain": [
       "array([[0., 1., 1., ..., 0., 0., 0.],\n",
       "       [0., 1., 1., ..., 0., 0., 0.],\n",
       "       [0., 1., 1., ..., 0., 0., 0.]])"
      ]
     },
     "execution_count": 14,
     "metadata": {},
     "output_type": "execute_result"
    }
   ],
   "source": [
    "x_train[0:3]"
   ]
  },
  {
   "cell_type": "code",
   "execution_count": 15,
   "id": "abe95616-3240-42a8-ab88-b720ed8306fe",
   "metadata": {},
   "outputs": [],
   "source": [
    "y_train = np.asarray(train_labels).astype('float32')\n",
    "y_test = np.asarray(test_labels).astype('float32')"
   ]
  },
  {
   "cell_type": "code",
   "execution_count": 16,
   "id": "e551767a-ba8d-4b3d-8122-3bf18cabd7d3",
   "metadata": {},
   "outputs": [
    {
     "data": {
      "text/plain": [
       "array([ 3.,  4.,  3.,  4.,  4.,  4.,  4.,  3.,  3., 16.], dtype=float32)"
      ]
     },
     "execution_count": 16,
     "metadata": {},
     "output_type": "execute_result"
    }
   ],
   "source": [
    "y_train[0:10]"
   ]
  },
  {
   "cell_type": "code",
   "execution_count": 17,
   "id": "dd0a190b-1941-476d-ab4c-9140f45de46c",
   "metadata": {},
   "outputs": [
    {
     "data": {
      "text/plain": [
       "array([ 3,  4,  3,  4,  4,  4,  4,  3,  3, 16], dtype=int64)"
      ]
     },
     "execution_count": 17,
     "metadata": {},
     "output_type": "execute_result"
    }
   ],
   "source": [
    "train_labels[0:10]"
   ]
  },
  {
   "cell_type": "code",
   "execution_count": 18,
   "id": "e6930e2d-8923-43ce-9d2e-fcb087755d19",
   "metadata": {},
   "outputs": [],
   "source": [
    "one_hot_train_labels = to_categorical(train_labels)\n",
    "one_hot_test_labels = to_categorical(test_labels)"
   ]
  },
  {
   "cell_type": "markdown",
   "id": "0c793ef2-3421-448d-8d91-5d667fd26a8e",
   "metadata": {},
   "source": [
    "## Neural Network"
   ]
  },
  {
   "cell_type": "code",
   "execution_count": 19,
   "id": "0d0c7cf7-1630-4b73-aec6-24a11b2aed8d",
   "metadata": {},
   "outputs": [
    {
     "name": "stdout",
     "output_type": "stream",
     "text": [
      "Model: \"sequential\"\n",
      "_________________________________________________________________\n",
      " Layer (type)                Output Shape              Param #   \n",
      "=================================================================\n",
      " dense (Dense)               (None, 64)                640064    \n",
      "                                                                 \n",
      " dense_1 (Dense)             (None, 64)                4160      \n",
      "                                                                 \n",
      " dense_2 (Dense)             (None, 46)                2990      \n",
      "                                                                 \n",
      "=================================================================\n",
      "Total params: 647214 (2.47 MB)\n",
      "Trainable params: 647214 (2.47 MB)\n",
      "Non-trainable params: 0 (0.00 Byte)\n",
      "_________________________________________________________________\n"
     ]
    }
   ],
   "source": [
    "model = models.Sequential()\n",
    "model.add(layers.Dense(64, activation='relu', input_shape=(10000,)))\n",
    "model.add(layers.Dense(64, activation='relu'))\n",
    "model.add(layers.Dense(46, activation='sigmoid'))\n",
    "model.summary()"
   ]
  },
  {
   "cell_type": "code",
   "execution_count": 20,
   "id": "54fe7347-8dd4-4cee-8da3-78106fe7b811",
   "metadata": {},
   "outputs": [],
   "source": [
    "model.compile(optimizer='rmsprop',\n",
    "              loss='categorical_crossentropy',\n",
    "              metrics=['accuracy'])"
   ]
  },
  {
   "cell_type": "markdown",
   "id": "3841bbd8-970e-4d22-a0f5-7f32f8b1a47e",
   "metadata": {},
   "source": [
    "## Training"
   ]
  },
  {
   "cell_type": "code",
   "execution_count": 21,
   "id": "a7a9c72e-47ad-4a7c-abb6-819e55b107a7",
   "metadata": {},
   "outputs": [],
   "source": [
    "x_val = x_train[:1000]\n",
    "partial_x_train = x_train[1000:]\n",
    "y_val = one_hot_train_labels[:1000]\n",
    "partial_y_train = one_hot_train_labels[1000:]"
   ]
  },
  {
   "cell_type": "code",
   "execution_count": 22,
   "id": "e82d7029-f4a4-45ef-9364-117458af0dbc",
   "metadata": {},
   "outputs": [
    {
     "name": "stdout",
     "output_type": "stream",
     "text": [
      "Epoch 1/20\n",
      "16/16 [==============================] - 2s 59ms/step - loss: 2.8972 - accuracy: 0.4498 - val_loss: 1.9587 - val_accuracy: 0.5800\n",
      "Epoch 2/20\n",
      "16/16 [==============================] - 0s 32ms/step - loss: 1.6042 - accuracy: 0.6662 - val_loss: 1.3953 - val_accuracy: 0.6900\n",
      "Epoch 3/20\n",
      "16/16 [==============================] - 1s 33ms/step - loss: 1.2025 - accuracy: 0.7339 - val_loss: 1.1930 - val_accuracy: 0.7320\n",
      "Epoch 4/20\n",
      "16/16 [==============================] - 0s 28ms/step - loss: 0.9792 - accuracy: 0.7884 - val_loss: 1.0790 - val_accuracy: 0.7640\n",
      "Epoch 5/20\n",
      "16/16 [==============================] - 1s 34ms/step - loss: 0.8089 - accuracy: 0.8276 - val_loss: 1.0388 - val_accuracy: 0.7680\n",
      "Epoch 6/20\n",
      "16/16 [==============================] - 1s 31ms/step - loss: 0.6768 - accuracy: 0.8579 - val_loss: 0.9685 - val_accuracy: 0.7880\n",
      "Epoch 7/20\n",
      "16/16 [==============================] - 1s 34ms/step - loss: 0.5680 - accuracy: 0.8800 - val_loss: 0.9215 - val_accuracy: 0.8000\n",
      "Epoch 8/20\n",
      "16/16 [==============================] - 1s 32ms/step - loss: 0.4733 - accuracy: 0.9022 - val_loss: 0.8973 - val_accuracy: 0.8140\n",
      "Epoch 9/20\n",
      "16/16 [==============================] - 1s 36ms/step - loss: 0.3976 - accuracy: 0.9174 - val_loss: 0.8755 - val_accuracy: 0.8130\n",
      "Epoch 10/20\n",
      "16/16 [==============================] - 1s 32ms/step - loss: 0.3518 - accuracy: 0.9236 - val_loss: 0.8726 - val_accuracy: 0.8200\n",
      "Epoch 11/20\n",
      "16/16 [==============================] - 1s 34ms/step - loss: 0.2950 - accuracy: 0.9370 - val_loss: 0.8767 - val_accuracy: 0.8190\n",
      "Epoch 12/20\n",
      "16/16 [==============================] - 1s 34ms/step - loss: 0.2589 - accuracy: 0.9425 - val_loss: 0.9131 - val_accuracy: 0.8000\n",
      "Epoch 13/20\n",
      "16/16 [==============================] - 1s 35ms/step - loss: 0.2290 - accuracy: 0.9479 - val_loss: 0.9342 - val_accuracy: 0.8070\n",
      "Epoch 14/20\n",
      "16/16 [==============================] - 1s 33ms/step - loss: 0.2054 - accuracy: 0.9501 - val_loss: 0.8887 - val_accuracy: 0.8140\n",
      "Epoch 15/20\n",
      "16/16 [==============================] - 1s 35ms/step - loss: 0.1859 - accuracy: 0.9496 - val_loss: 0.8968 - val_accuracy: 0.8160\n",
      "Epoch 16/20\n",
      "16/16 [==============================] - 1s 35ms/step - loss: 0.1705 - accuracy: 0.9534 - val_loss: 0.9075 - val_accuracy: 0.8160\n",
      "Epoch 17/20\n",
      "16/16 [==============================] - 1s 36ms/step - loss: 0.1589 - accuracy: 0.9540 - val_loss: 0.9387 - val_accuracy: 0.8130\n",
      "Epoch 18/20\n",
      "16/16 [==============================] - 1s 34ms/step - loss: 0.1494 - accuracy: 0.9564 - val_loss: 0.9488 - val_accuracy: 0.8050\n",
      "Epoch 19/20\n",
      "16/16 [==============================] - 1s 34ms/step - loss: 0.1447 - accuracy: 0.9568 - val_loss: 0.9634 - val_accuracy: 0.8100\n",
      "Epoch 20/20\n",
      "16/16 [==============================] - 1s 35ms/step - loss: 0.1327 - accuracy: 0.9568 - val_loss: 0.9756 - val_accuracy: 0.8060\n"
     ]
    }
   ],
   "source": [
    "history = model.fit(partial_x_train,\n",
    "                    partial_y_train,\n",
    "                    epochs=20,\n",
    "                    batch_size=512,\n",
    "                    validation_data=(x_val, y_val))"
   ]
  },
  {
   "cell_type": "markdown",
   "id": "5d7e87ca-9850-4a29-b9fd-7b92ba511f10",
   "metadata": {},
   "source": [
    "## Results -- overfitting"
   ]
  },
  {
   "cell_type": "code",
   "execution_count": 23,
   "id": "477b9aed-5686-4aaa-8bd9-1fa3e8dd4848",
   "metadata": {},
   "outputs": [
    {
     "data": {
      "text/plain": [
       "dict_keys(['loss', 'accuracy', 'val_loss', 'val_accuracy'])"
      ]
     },
     "execution_count": 23,
     "metadata": {},
     "output_type": "execute_result"
    }
   ],
   "source": [
    "history_dict = history.history\n",
    "history_dict.keys()"
   ]
  },
  {
   "cell_type": "code",
   "execution_count": 24,
   "id": "42ba7f79-2a47-4e4a-8eac-daed3e12a4f0",
   "metadata": {},
   "outputs": [],
   "source": [
    "loss_values = history_dict['loss']\n",
    "val_loss_values = history_dict['val_loss']"
   ]
  },
  {
   "cell_type": "code",
   "execution_count": 25,
   "id": "3f48d662-6952-4b93-a853-e196ad2ef643",
   "metadata": {},
   "outputs": [
    {
     "data": {
      "text/plain": [
       "Text(0, 0.5, 'Loss')"
      ]
     },
     "execution_count": 25,
     "metadata": {},
     "output_type": "execute_result"
    },
    {
     "data": {
      "image/png": "[encoded data removed]",
      "text/plain": [
       "<Figure size 640x480 with 1 Axes>"
      ]
     },
     "metadata": {},
     "output_type": "display_data"
    }
   ],
   "source": [
    "fig, ax = plt.subplots()\n",
    "ax.plot(loss_values, 'bo', label='Training loss')\n",
    "ax.plot(val_loss_values, 'b', label='Validation loss')\n",
    "ax.legend()\n",
    "ax.set_title('Training and validation loss')\n",
    "ax.set_xlabel('Epochs')\n",
    "ax.set_ylabel('Loss')"
   ]
  },
  {
   "cell_type": "code",
   "execution_count": 26,
   "id": "4eefeeb2-380b-47e0-a1b6-07580b22ccee",
   "metadata": {},
   "outputs": [],
   "source": [
    "acc = history_dict['accuracy']\n",
    "val_acc = history_dict['val_accuracy']"
   ]
  },
  {
   "cell_type": "code",
   "execution_count": 27,
   "id": "88d42641-dddf-4571-99e4-68eab44d2ac3",
   "metadata": {},
   "outputs": [
    {
     "data": {
      "text/plain": [
       "Text(0, 0.5, 'Accuracy')"
      ]
     },
     "execution_count": 27,
     "metadata": {},
     "output_type": "execute_result"
    },
    {
     "data": {
      "image/png": "[encoded data removed]",
      "text/plain": [
       "<Figure size 640x480 with 1 Axes>"
      ]
     },
     "metadata": {},
     "output_type": "display_data"
    }
   ],
   "source": [
    "fig, ax = plt.subplots()\n",
    "ax.plot(acc, 'bo', label='Training acc')\n",
    "ax.plot(val_acc, 'b', label='Validation acc')\n",
    "ax.legend()\n",
    "ax.set_title('Training and validation accuracy')\n",
    "ax.set_xlabel('Epochs')\n",
    "ax.set_ylabel('Accuracy')"
   ]
  },
  {
   "cell_type": "markdown",
   "id": "269d6ac5-4ea1-4563-890f-28d2586d88df",
   "metadata": {},
   "source": [
    "## Training 2"
   ]
  },
  {
   "cell_type": "code",
   "execution_count": 28,
   "id": "66a53f9f-b92e-4a4a-8d7d-4024329da303",
   "metadata": {},
   "outputs": [
    {
     "name": "stdout",
     "output_type": "stream",
     "text": [
      "Model: \"sequential_1\"\n",
      "_________________________________________________________________\n",
      " Layer (type)                Output Shape              Param #   \n",
      "=================================================================\n",
      " dense_3 (Dense)             (None, 64)                640064    \n",
      "                                                                 \n",
      " dense_4 (Dense)             (None, 64)                4160      \n",
      "                                                                 \n",
      " dense_5 (Dense)             (None, 46)                2990      \n",
      "                                                                 \n",
      "=================================================================\n",
      "Total params: 647214 (2.47 MB)\n",
      "Trainable params: 647214 (2.47 MB)\n",
      "Non-trainable params: 0 (0.00 Byte)\n",
      "_________________________________________________________________\n"
     ]
    }
   ],
   "source": [
    "model = models.Sequential()\n",
    "model.add(layers.Dense(64, activation='relu', input_shape=(10000,)))\n",
    "model.add(layers.Dense(64, activation='relu'))\n",
    "model.add(layers.Dense(46, activation='sigmoid'))\n",
    "model.summary()"
   ]
  },
  {
   "cell_type": "code",
   "execution_count": 29,
   "id": "77825057-cef1-44be-810f-17d877dc4280",
   "metadata": {},
   "outputs": [],
   "source": [
    "model.compile(optimizer='rmsprop',\n",
    "              loss='binary_crossentropy',\n",
    "              metrics=['accuracy'])"
   ]
  },
  {
   "cell_type": "code",
   "execution_count": 30,
   "id": "7f8011a8-0e3f-4481-8437-9f289665693e",
   "metadata": {},
   "outputs": [
    {
     "name": "stdout",
     "output_type": "stream",
     "text": [
      "Epoch 1/8\n",
      "16/16 [==============================] - 2s 60ms/step - loss: 0.4866 - accuracy: 0.1635 - val_loss: 0.2518 - val_accuracy: 0.1700\n",
      "Epoch 2/8\n",
      "16/16 [==============================] - 1s 35ms/step - loss: 0.1694 - accuracy: 0.3587 - val_loss: 0.1173 - val_accuracy: 0.4950\n",
      "Epoch 3/8\n",
      "16/16 [==============================] - 1s 35ms/step - loss: 0.0999 - accuracy: 0.4686 - val_loss: 0.0883 - val_accuracy: 0.5000\n",
      "Epoch 4/8\n",
      "16/16 [==============================] - 1s 37ms/step - loss: 0.0805 - accuracy: 0.5084 - val_loss: 0.0754 - val_accuracy: 0.4990\n",
      "Epoch 5/8\n",
      "16/16 [==============================] - 1s 36ms/step - loss: 0.0705 - accuracy: 0.5223 - val_loss: 0.0671 - val_accuracy: 0.5310\n",
      "Epoch 6/8\n",
      "16/16 [==============================] - 1s 35ms/step - loss: 0.0639 - accuracy: 0.5301 - val_loss: 0.0616 - val_accuracy: 0.5410\n",
      "Epoch 7/8\n",
      "16/16 [==============================] - 1s 35ms/step - loss: 0.0594 - accuracy: 0.5481 - val_loss: 0.0576 - val_accuracy: 0.5590\n",
      "Epoch 8/8\n",
      "16/16 [==============================] - 1s 35ms/step - loss: 0.0559 - accuracy: 0.5749 - val_loss: 0.0548 - val_accuracy: 0.5730\n"
     ]
    }
   ],
   "source": [
    "history = model.fit(partial_x_train,\n",
    "                    partial_y_train,\n",
    "                    epochs=8,  # 20 -> 8\n",
    "                    batch_size=512,\n",
    "                    validation_data=(x_val, y_val))"
   ]
  },
  {
   "cell_type": "code",
   "execution_count": 31,
   "id": "ecb57a72-d983-4d49-9281-3c7e7fb3c0d7",
   "metadata": {},
   "outputs": [
    {
     "name": "stdout",
     "output_type": "stream",
     "text": [
      "71/71 [==============================] - 0s 4ms/step - loss: 0.0557 - accuracy: 0.5828\n"
     ]
    },
    {
     "data": {
      "text/plain": [
       "[0.05573685094714165, 0.5828139185905457]"
      ]
     },
     "execution_count": 31,
     "metadata": {},
     "output_type": "execute_result"
    }
   ],
   "source": [
    "model.evaluate(x_test, one_hot_test_labels)"
   ]
  },
  {
   "cell_type": "markdown",
   "id": "d0bce659-cf63-409a-9389-bb7eef9c657c",
   "metadata": {},
   "source": [
    "## Results 2"
   ]
  },
  {
   "cell_type": "code",
   "execution_count": 32,
   "id": "948b00b1-8038-4ade-83e7-37645cf1dcc9",
   "metadata": {},
   "outputs": [],
   "source": [
    "history_dict = history.history"
   ]
  },
  {
   "cell_type": "code",
   "execution_count": 33,
   "id": "abffd565-a742-493d-8e78-308b171d09b0",
   "metadata": {},
   "outputs": [],
   "source": [
    "loss_values = history_dict['loss']\n",
    "val_loss_values = history_dict['val_loss']"
   ]
  },
  {
   "cell_type": "code",
   "execution_count": 34,
   "id": "be71e55b-5687-4db4-8e41-8206da16e85e",
   "metadata": {},
   "outputs": [
    {
     "data": {
      "text/plain": [
       "Text(0, 0.5, 'Loss')"
      ]
     },
     "execution_count": 34,
     "metadata": {},
     "output_type": "execute_result"
    },
    {
     "data": {
      "image/png": "[encoded data removed]",
      "text/plain": [
       "<Figure size 640x480 with 1 Axes>"
      ]
     },
     "metadata": {},
     "output_type": "display_data"
    }
   ],
   "source": [
    "fig, ax = plt.subplots()\n",
    "ax.plot(loss_values, 'bo', label='Training loss')\n",
    "ax.plot(val_loss_values, 'b', label='Validation loss')\n",
    "ax.legend()\n",
    "ax.set_title('Training and validation loss')\n",
    "ax.set_xlabel('Epochs')\n",
    "ax.set_ylabel('Loss')"
   ]
  },
  {
   "cell_type": "code",
   "execution_count": 35,
   "id": "f65ef712-87e9-4c85-8b3d-7c2e6d1f315e",
   "metadata": {},
   "outputs": [],
   "source": [
    "acc = history_dict['accuracy']\n",
    "val_acc = history_dict['val_accuracy']"
   ]
  },
  {
   "cell_type": "code",
   "execution_count": 36,
   "id": "7ae84f6d-00bb-4856-b0a5-7e2593b1c467",
   "metadata": {},
   "outputs": [
    {
     "data": {
      "text/plain": [
       "Text(0, 0.5, 'Accuracy')"
      ]
     },
     "execution_count": 36,
     "metadata": {},
     "output_type": "execute_result"
    },
    {
     "data": {
      "image/png": "[encoded data removed]",
      "text/plain": [
       "<Figure size 640x480 with 1 Axes>"
      ]
     },
     "metadata": {},
     "output_type": "display_data"
    }
   ],
   "source": [
    "fig, ax = plt.subplots()\n",
    "ax.plot(acc, 'bo', label='Training acc')\n",
    "ax.plot(val_acc, 'b', label='Validation acc')\n",
    "ax.legend()\n",
    "ax.set_title('Training and validation accuracy')\n",
    "ax.set_xlabel('Epochs')\n",
    "ax.set_ylabel('Accuracy')"
   ]
  },
  {
   "cell_type": "code",
   "execution_count": 37,
   "id": "0ad0752e-f535-40a7-84a1-39d2b7f1abff",
   "metadata": {},
   "outputs": [
    {
     "name": "stdout",
     "output_type": "stream",
     "text": [
      "71/71 [==============================] - 0s 4ms/step - loss: 0.0557 - accuracy: 0.5828\n"
     ]
    },
    {
     "data": {
      "text/plain": [
       "[0.05573685094714165, 0.5828139185905457]"
      ]
     },
     "execution_count": 37,
     "metadata": {},
     "output_type": "execute_result"
    }
   ],
   "source": [
    "model.evaluate(x_test, one_hot_test_labels)"
   ]
  },
  {
   "cell_type": "markdown",
   "id": "782fef3a-eb74-45f3-bb73-25c0a2af6918",
   "metadata": {},
   "source": [
    "## Prediction"
   ]
  },
  {
   "cell_type": "code",
   "execution_count": 38,
   "id": "200032f0-5a93-446d-b393-91c1c0ec1a6b",
   "metadata": {},
   "outputs": [
    {
     "name": "stdout",
     "output_type": "stream",
     "text": [
      "71/71 [==============================] - 0s 4ms/step\n"
     ]
    }
   ],
   "source": [
    "predictions = model.predict(x_test)"
   ]
  },
  {
   "cell_type": "code",
   "execution_count": 39,
   "id": "7b47dea5-9044-43ef-8cd2-2224202d47c2",
   "metadata": {},
   "outputs": [
    {
     "data": {
      "text/plain": [
       "array([0, 1, 0, 2, 3, 0, 0, 0, 0, 0, 0, 2, 0, 0, 0, 0, 1, 0, 0, 3, 1, 0,\n",
       "       0, 0, 0, 0, 0, 0, 0, 0, 0, 0, 0, 0, 0, 0, 0, 0, 0, 0, 0, 0, 0, 0,\n",
       "       0, 0], dtype=uint8)"
      ]
     },
     "execution_count": 39,
     "metadata": {},
     "output_type": "execute_result"
    }
   ],
   "source": [
    "IDX = 15\n",
    "prediction = np.round(predictions[IDX]*100).astype('uint8')\n",
    "prediction"
   ]
  },
  {
   "cell_type": "code",
   "execution_count": 40,
   "id": "8406886f-b837-43ca-9b81-37e5de20a876",
   "metadata": {},
   "outputs": [
    {
     "data": {
      "text/plain": [
       "'acq'"
      ]
     },
     "execution_count": 40,
     "metadata": {},
     "output_type": "execute_result"
    }
   ],
   "source": [
    "categories[np.argmax(prediction)]"
   ]
  },
  {
   "cell_type": "code",
   "execution_count": 41,
   "id": "10fdf55a-bc4c-46c0-9eb6-da6cedd659a5",
   "metadata": {},
   "outputs": [
    {
     "data": {
      "text/plain": [
       "\"? leading domestic semiconductor makers will boost imports and cut production of key memory microchips from next month in line with government attempts to ward off u s trade sanctions company spokesmen said the moves might persuade the u s to call off the sanctions despite obstacles to full implementation of the plans analysts said the tariffs will affect about 300 mln dlrs worth of products and are in retaliation for japan's alleged failure to honour a semiconductor trade pact in announcing the sanctions last friday president reagan said japan had not fulfilled its promise to halt predatory pricing and open japan's market to foreign products but u s trade representative clayton yeutter said yesterday on u s television that the u s is willing to drop the tariffs if japan shows a clear indication that it will open its markets to u s goods the ministry of international trade and industry miti has urged producers to slash output of the chips by 11 pct in the second quarter following a call to reduce production by more than 20 pct the previous quarter miti also urged makers to boost chip imports analysts said the moves could encourage washington to cancel the tariffs ahead of next month's meeting between prime minister yasuhiro nakasone and president reagan the u s wants to be satisfied it has ? its ? and shown that it can and will do business said analyst ? edwards at jardine fleming securities ltd in tokyo but analysts cautioned that although japanese producers can cut output boosting imports the key to u s withdrawal of the sanctions is more difficult the u s does not have the low end consumer ? integrated ? that the japanese need for consumer products they're well supplied here said richard may senior analyst at barclays de zoete wedd ltd in tokyo the u s leads in production of medium and high end ? but japanese makers are keen to develop their own high end production ? the analysts said the japanese must be prepared to trade some losses on semiconductors in return for free access to other areas said edwards a spokesman for ? ltd lt hit t said the firm's reduced output of 256 ? dynamic ? access memory ? ? was unrelated to miti's efforts to ward off the trade sanctions decreased production was a natural result of the company increasing output of one mln bit ? he said company officials unveiled the following plans nec corp lt ? t japan's largest ? plans to slash production of ? ? semiconductors by 29 41 pct to six mln per month from a monthly average of 8 5 mln last quarter in the year beginning april 1 nec will boost chip imports which comprised some 20 pct of all nec chip consumption the year before ? ltd's lt hit t april output of ? ? will fall by 25 93 pct to four mln compared to 5 4 mln in march the company is trying to boost imports but has not set a specific target imports are currently very low toshiba corp lt ? t will reduce april ? ? production by 16 67 pct to just over four mln and is considering ways to boost imports a company official said toshiba has an agreement with ? inc ? n to sell the u s firm's chips in japan the firms are planning a joint venture production of memory chips in ? northern japan mitsubishi electric corp ? t will trim second quarter output by about 10 pct to between 5 5 mln to 5 6 mln chips compared to the first quarter plans call for increased imports but an official said boosting imports will be difficult as it depends on sales demand fujitsu ltd itsu t will cut production in accord with miti guidelines and boost imports from currently low levels ? electric industry co ltd ? t will reduce april production by 10 pct from ? 3 2 mln ? is studying ways to increase imports by 10 pct in the fiscal year beginning april 1 from the previous year's total of more than five billion yen a company official said reuter 3\""
      ]
     },
     "execution_count": 41,
     "metadata": {},
     "output_type": "execute_result"
    }
   ],
   "source": [
    "decode_newswire(test_data[IDX])"
   ]
  },
  {
   "cell_type": "code",
   "execution_count": null,
   "id": "a9c8fd69-30e5-4b78-906a-fb2f6107c393",
   "metadata": {},
   "outputs": [],
   "source": []
  }
 ],
 "metadata": {
  "kernelspec": {
   "display_name": "Python 3 (ipykernel)",
   "language": "python",
   "name": "python3"
  },
  "language_info": {
   "codemirror_mode": {
    "name": "ipython",
    "version": 3
   },
   "file_extension": ".py",
   "mimetype": "text/x-python",
   "name": "python",
   "nbconvert_exporter": "python",
   "pygments_lexer": "ipython3",
   "version": "3.11.4"
  }
 },
 "nbformat": 4,
 "nbformat_minor": 5
}
